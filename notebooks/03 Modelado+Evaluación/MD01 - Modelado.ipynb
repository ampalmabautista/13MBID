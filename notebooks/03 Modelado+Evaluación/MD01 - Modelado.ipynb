{
 "cells": [
  {
   "cell_type": "markdown",
   "metadata": {},
   "source": [
    "## Máster en Big Data y Data Science\n",
    "\n",
    "### Metodologías de gestión y diseño de proyectos de big data\n",
    "\n",
    "#### AP2 - Modelado\n",
    "\n",
    "---\n",
    "\n",
    "En esta libreta se comienzan a ejecutar las actividades correspondientes a la fase de modelado. \n",
    "\n",
    "---"
   ]
  },
  {
   "cell_type": "markdown",
   "metadata": {},
   "source": [
    "### Carga de librerias a utilizar"
   ]
  },
  {
   "cell_type": "code",
   "execution_count": 306,
   "metadata": {},
   "outputs": [],
   "source": [
    "# Se importan las librerias a utilizar\n",
    "import pandas as pd\n",
    "import numpy as np\n",
    "\n",
    "# Para registro de toda la experimentación\n",
    "import mlflow\n",
    "\n",
    "# Para la generación de los sets de train - test\n",
    "from sklearn.model_selection import train_test_split\n",
    "\n",
    "#Importaciones varias para la evaluación\n",
    "from sklearn.metrics import confusion_matrix,accuracy_score,classification_report\n",
    "from sklearn.metrics import confusion_matrix, ConfusionMatrixDisplay\n",
    "import matplotlib.pyplot as plt"
   ]
  },
  {
   "cell_type": "markdown",
   "metadata": {},
   "source": [
    "### Lectura del dataset generado previamente"
   ]
  },
  {
   "cell_type": "code",
   "execution_count": 307,
   "metadata": {},
   "outputs": [
    {
     "data": {
      "text/html": [
       "<div>\n",
       "<style scoped>\n",
       "    .dataframe tbody tr th:only-of-type {\n",
       "        vertical-align: middle;\n",
       "    }\n",
       "\n",
       "    .dataframe tbody tr th {\n",
       "        vertical-align: top;\n",
       "    }\n",
       "\n",
       "    .dataframe thead th {\n",
       "        text-align: right;\n",
       "    }\n",
       "</style>\n",
       "<table border=\"1\" class=\"dataframe\">\n",
       "  <thead>\n",
       "    <tr style=\"text-align: right;\">\n",
       "      <th></th>\n",
       "      <th>estado_civil</th>\n",
       "      <th>estado_credito</th>\n",
       "      <th>antiguedad_empleado</th>\n",
       "      <th>edad</th>\n",
       "      <th>pct_ingreso</th>\n",
       "      <th>ingresos</th>\n",
       "      <th>antiguedad_cliente</th>\n",
       "      <th>limite_credito_tc</th>\n",
       "      <th>gastos_ult_12m</th>\n",
       "      <th>operaciones_ult_12m</th>\n",
       "      <th>...</th>\n",
       "      <th>estado_cliente</th>\n",
       "      <th>genero</th>\n",
       "      <th>nivel_educativo</th>\n",
       "      <th>personas_a_cargo</th>\n",
       "      <th>completitud_fila</th>\n",
       "      <th>estado_civil_ok</th>\n",
       "      <th>estado_cliente_ok</th>\n",
       "      <th>genero_ok</th>\n",
       "      <th>nivel_educativo_ok</th>\n",
       "      <th>nivel_tarjeta_ok</th>\n",
       "    </tr>\n",
       "  </thead>\n",
       "  <tbody>\n",
       "    <tr>\n",
       "      <th>0</th>\n",
       "      <td>C</td>\n",
       "      <td>C</td>\n",
       "      <td>5_a_10</td>\n",
       "      <td>menor_25</td>\n",
       "      <td>hasta_20</td>\n",
       "      <td>50k_a_100k</td>\n",
       "      <td>2y_a_4y</td>\n",
       "      <td>3k_a_5k</td>\n",
       "      <td>mayor_10k</td>\n",
       "      <td>mayor_100</td>\n",
       "      <td>...</td>\n",
       "      <td>ACTIVO</td>\n",
       "      <td>F</td>\n",
       "      <td>SECUNDARIO_COMPLETO</td>\n",
       "      <td>3.0</td>\n",
       "      <td>0.0</td>\n",
       "      <td>True</td>\n",
       "      <td>True</td>\n",
       "      <td>True</td>\n",
       "      <td>True</td>\n",
       "      <td>True</td>\n",
       "    </tr>\n",
       "    <tr>\n",
       "      <th>1</th>\n",
       "      <td>S</td>\n",
       "      <td>P</td>\n",
       "      <td>menor_10</td>\n",
       "      <td>menor_25</td>\n",
       "      <td>hasta_20</td>\n",
       "      <td>20k_a_50k</td>\n",
       "      <td>2y_a_4y</td>\n",
       "      <td>3k_a_5k</td>\n",
       "      <td>menor_1k</td>\n",
       "      <td>15_a_30</td>\n",
       "      <td>...</td>\n",
       "      <td>PASIVO</td>\n",
       "      <td>M</td>\n",
       "      <td>DESCONOCIDO</td>\n",
       "      <td>0.0</td>\n",
       "      <td>0.0</td>\n",
       "      <td>True</td>\n",
       "      <td>True</td>\n",
       "      <td>True</td>\n",
       "      <td>True</td>\n",
       "      <td>True</td>\n",
       "    </tr>\n",
       "    <tr>\n",
       "      <th>2</th>\n",
       "      <td>D</td>\n",
       "      <td>C</td>\n",
       "      <td>5_a_10</td>\n",
       "      <td>menor_25</td>\n",
       "      <td>20_a_40</td>\n",
       "      <td>20k_a_50k</td>\n",
       "      <td>2y_a_4y</td>\n",
       "      <td>5k_a_10k</td>\n",
       "      <td>1k_a_4k</td>\n",
       "      <td>15_a_30</td>\n",
       "      <td>...</td>\n",
       "      <td>PASIVO</td>\n",
       "      <td>M</td>\n",
       "      <td>POSGRADO_COMPLETO</td>\n",
       "      <td>3.0</td>\n",
       "      <td>0.0</td>\n",
       "      <td>True</td>\n",
       "      <td>True</td>\n",
       "      <td>True</td>\n",
       "      <td>True</td>\n",
       "      <td>True</td>\n",
       "    </tr>\n",
       "    <tr>\n",
       "      <th>3</th>\n",
       "      <td>S</td>\n",
       "      <td>C</td>\n",
       "      <td>menor_10</td>\n",
       "      <td>25_a_30</td>\n",
       "      <td>20_a_40</td>\n",
       "      <td>20k_a_50k</td>\n",
       "      <td>menor_2y</td>\n",
       "      <td>menor_3k</td>\n",
       "      <td>1k_a_4k</td>\n",
       "      <td>75_a_100</td>\n",
       "      <td>...</td>\n",
       "      <td>ACTIVO</td>\n",
       "      <td>F</td>\n",
       "      <td>UNIVERSITARIO_INCOMPLETO</td>\n",
       "      <td>2.0</td>\n",
       "      <td>0.0</td>\n",
       "      <td>True</td>\n",
       "      <td>True</td>\n",
       "      <td>True</td>\n",
       "      <td>True</td>\n",
       "      <td>True</td>\n",
       "    </tr>\n",
       "    <tr>\n",
       "      <th>4</th>\n",
       "      <td>C</td>\n",
       "      <td>C</td>\n",
       "      <td>menor_10</td>\n",
       "      <td>25_a_30</td>\n",
       "      <td>20_a_40</td>\n",
       "      <td>50k_a_100k</td>\n",
       "      <td>2y_a_4y</td>\n",
       "      <td>3k_a_5k</td>\n",
       "      <td>4k_a_6k</td>\n",
       "      <td>50_a_75</td>\n",
       "      <td>...</td>\n",
       "      <td>ACTIVO</td>\n",
       "      <td>F</td>\n",
       "      <td>UNIVERSITARIO_INCOMPLETO</td>\n",
       "      <td>2.0</td>\n",
       "      <td>0.0</td>\n",
       "      <td>True</td>\n",
       "      <td>True</td>\n",
       "      <td>True</td>\n",
       "      <td>True</td>\n",
       "      <td>True</td>\n",
       "    </tr>\n",
       "  </tbody>\n",
       "</table>\n",
       "<p>5 rows × 25 columns</p>\n",
       "</div>"
      ],
      "text/plain": [
       "  estado_civil estado_credito antiguedad_empleado      edad pct_ingreso  \\\n",
       "0            C              C              5_a_10  menor_25    hasta_20   \n",
       "1            S              P            menor_10  menor_25    hasta_20   \n",
       "2            D              C              5_a_10  menor_25     20_a_40   \n",
       "3            S              C            menor_10   25_a_30     20_a_40   \n",
       "4            C              C            menor_10   25_a_30     20_a_40   \n",
       "\n",
       "     ingresos antiguedad_cliente limite_credito_tc gastos_ult_12m  \\\n",
       "0  50k_a_100k            2y_a_4y           3k_a_5k      mayor_10k   \n",
       "1   20k_a_50k            2y_a_4y           3k_a_5k       menor_1k   \n",
       "2   20k_a_50k            2y_a_4y          5k_a_10k        1k_a_4k   \n",
       "3   20k_a_50k           menor_2y          menor_3k        1k_a_4k   \n",
       "4  50k_a_100k            2y_a_4y           3k_a_5k        4k_a_6k   \n",
       "\n",
       "  operaciones_ult_12m  ...  estado_cliente  genero           nivel_educativo  \\\n",
       "0           mayor_100  ...          ACTIVO       F       SECUNDARIO_COMPLETO   \n",
       "1             15_a_30  ...          PASIVO       M               DESCONOCIDO   \n",
       "2             15_a_30  ...          PASIVO       M         POSGRADO_COMPLETO   \n",
       "3            75_a_100  ...          ACTIVO       F  UNIVERSITARIO_INCOMPLETO   \n",
       "4             50_a_75  ...          ACTIVO       F  UNIVERSITARIO_INCOMPLETO   \n",
       "\n",
       "  personas_a_cargo completitud_fila estado_civil_ok estado_cliente_ok  \\\n",
       "0              3.0              0.0            True              True   \n",
       "1              0.0              0.0            True              True   \n",
       "2              3.0              0.0            True              True   \n",
       "3              2.0              0.0            True              True   \n",
       "4              2.0              0.0            True              True   \n",
       "\n",
       "  genero_ok  nivel_educativo_ok  nivel_tarjeta_ok  \n",
       "0      True                True              True  \n",
       "1      True                True              True  \n",
       "2      True                True              True  \n",
       "3      True                True              True  \n",
       "4      True                True              True  \n",
       "\n",
       "[5 rows x 25 columns]"
      ]
     },
     "execution_count": 307,
     "metadata": {},
     "output_type": "execute_result"
    }
   ],
   "source": [
    "# Se hace la lectura del dataset del seminario y se obtiene su cabecera\n",
    "datos = pd.read_csv('../../data/final/datos_finales.csv', sep=';')\n",
    "datos.head()"
   ]
  },
  {
   "cell_type": "markdown",
   "metadata": {},
   "source": [
    "### Revisión de meta-datos"
   ]
  },
  {
   "cell_type": "code",
   "execution_count": 308,
   "metadata": {},
   "outputs": [
    {
     "name": "stdout",
     "output_type": "stream",
     "text": [
      "Descripción del dataset 'datos_completos'\n",
      "Columnas del dataset:\n",
      "\n",
      "estado_civil\n",
      "estado_credito\n",
      "antiguedad_empleado\n",
      "edad\n",
      "pct_ingreso\n",
      "ingresos\n",
      "antiguedad_cliente\n",
      "limite_credito_tc\n",
      "gastos_ult_12m\n",
      "operaciones_ult_12m\n",
      "importe_solicitado\n",
      "duracion_credito\n",
      "situacion_vivienda\n",
      "objetivo_credito\n",
      "falta_pago\n",
      "estado_cliente\n",
      "genero\n",
      "nivel_educativo\n",
      "personas_a_cargo\n",
      "completitud_fila\n",
      "estado_civil_ok\n",
      "estado_cliente_ok\n",
      "genero_ok\n",
      "nivel_educativo_ok\n",
      "nivel_tarjeta_ok\n",
      "\n",
      "Cantidad de filas: 9765\n"
     ]
    }
   ],
   "source": [
    "def reporte_descripcion_dataset(df):\n",
    "    columnas = df.columns\n",
    "    print(\"Columnas del dataset:\\n\")\n",
    "    for col in columnas:\n",
    "        print(col)\n",
    "    print(f\"\\nCantidad de filas: {df.shape[0]}\")\n",
    "\n",
    "print(\"Descripción del dataset 'datos_completos'\")\n",
    "reporte_descripcion_dataset(datos)"
   ]
  },
  {
   "cell_type": "markdown",
   "metadata": {},
   "source": [
    "### Armado de los sets de entrenamiento y testeo"
   ]
  },
  {
   "cell_type": "code",
   "execution_count": 309,
   "metadata": {},
   "outputs": [
    {
     "name": "stdout",
     "output_type": "stream",
     "text": [
      "Vista de los datos del atributo target: \n",
      "['N' 'Y' 'Y' 'N' 'N' 'N' 'N' 'N' 'N' 'N']\n",
      "--------------------------------------------------\n",
      "Vista parcial de los datos sin el atributo target:\n"
     ]
    },
    {
     "data": {
      "text/html": [
       "<div>\n",
       "<style scoped>\n",
       "    .dataframe tbody tr th:only-of-type {\n",
       "        vertical-align: middle;\n",
       "    }\n",
       "\n",
       "    .dataframe tbody tr th {\n",
       "        vertical-align: top;\n",
       "    }\n",
       "\n",
       "    .dataframe thead th {\n",
       "        text-align: right;\n",
       "    }\n",
       "</style>\n",
       "<table border=\"1\" class=\"dataframe\">\n",
       "  <thead>\n",
       "    <tr style=\"text-align: right;\">\n",
       "      <th></th>\n",
       "      <th>operaciones_ult_12m</th>\n",
       "      <th>gastos_ult_12m</th>\n",
       "      <th>limite_credito_tc</th>\n",
       "      <th>antiguedad_cliente</th>\n",
       "      <th>ingresos</th>\n",
       "      <th>pct_ingreso</th>\n",
       "      <th>antiguedad_empleado</th>\n",
       "      <th>edad</th>\n",
       "      <th>importe_solicitado</th>\n",
       "      <th>duracion_credito</th>\n",
       "      <th>situacion_vivienda</th>\n",
       "      <th>objetivo_credito</th>\n",
       "      <th>estado_credito</th>\n",
       "      <th>estado_civil</th>\n",
       "      <th>estado_cliente</th>\n",
       "      <th>genero</th>\n",
       "      <th>nivel_educativo</th>\n",
       "      <th>personas_a_cargo</th>\n",
       "    </tr>\n",
       "  </thead>\n",
       "  <tbody>\n",
       "    <tr>\n",
       "      <th>0</th>\n",
       "      <td>mayor_100</td>\n",
       "      <td>mayor_10k</td>\n",
       "      <td>3k_a_5k</td>\n",
       "      <td>2y_a_4y</td>\n",
       "      <td>50k_a_100k</td>\n",
       "      <td>hasta_20</td>\n",
       "      <td>5_a_10</td>\n",
       "      <td>menor_25</td>\n",
       "      <td>11000</td>\n",
       "      <td>3</td>\n",
       "      <td>HIPOTECA</td>\n",
       "      <td>INVERSIONES</td>\n",
       "      <td>C</td>\n",
       "      <td>C</td>\n",
       "      <td>ACTIVO</td>\n",
       "      <td>F</td>\n",
       "      <td>SECUNDARIO_COMPLETO</td>\n",
       "      <td>3.0</td>\n",
       "    </tr>\n",
       "    <tr>\n",
       "      <th>1</th>\n",
       "      <td>15_a_30</td>\n",
       "      <td>menor_1k</td>\n",
       "      <td>3k_a_5k</td>\n",
       "      <td>2y_a_4y</td>\n",
       "      <td>20k_a_50k</td>\n",
       "      <td>hasta_20</td>\n",
       "      <td>menor_10</td>\n",
       "      <td>menor_25</td>\n",
       "      <td>1500</td>\n",
       "      <td>2</td>\n",
       "      <td>ALQUILER</td>\n",
       "      <td>MEJORAS_HOGAR</td>\n",
       "      <td>P</td>\n",
       "      <td>S</td>\n",
       "      <td>PASIVO</td>\n",
       "      <td>M</td>\n",
       "      <td>DESCONOCIDO</td>\n",
       "      <td>0.0</td>\n",
       "    </tr>\n",
       "    <tr>\n",
       "      <th>2</th>\n",
       "      <td>15_a_30</td>\n",
       "      <td>1k_a_4k</td>\n",
       "      <td>5k_a_10k</td>\n",
       "      <td>2y_a_4y</td>\n",
       "      <td>20k_a_50k</td>\n",
       "      <td>20_a_40</td>\n",
       "      <td>5_a_10</td>\n",
       "      <td>menor_25</td>\n",
       "      <td>10000</td>\n",
       "      <td>2</td>\n",
       "      <td>OTROS</td>\n",
       "      <td>EDUCACIÓN</td>\n",
       "      <td>C</td>\n",
       "      <td>D</td>\n",
       "      <td>PASIVO</td>\n",
       "      <td>M</td>\n",
       "      <td>POSGRADO_COMPLETO</td>\n",
       "      <td>3.0</td>\n",
       "    </tr>\n",
       "    <tr>\n",
       "      <th>3</th>\n",
       "      <td>75_a_100</td>\n",
       "      <td>1k_a_4k</td>\n",
       "      <td>menor_3k</td>\n",
       "      <td>menor_2y</td>\n",
       "      <td>20k_a_50k</td>\n",
       "      <td>20_a_40</td>\n",
       "      <td>menor_10</td>\n",
       "      <td>25_a_30</td>\n",
       "      <td>6000</td>\n",
       "      <td>4</td>\n",
       "      <td>ALQUILER</td>\n",
       "      <td>INVERSIONES</td>\n",
       "      <td>C</td>\n",
       "      <td>S</td>\n",
       "      <td>ACTIVO</td>\n",
       "      <td>F</td>\n",
       "      <td>UNIVERSITARIO_INCOMPLETO</td>\n",
       "      <td>2.0</td>\n",
       "    </tr>\n",
       "    <tr>\n",
       "      <th>4</th>\n",
       "      <td>50_a_75</td>\n",
       "      <td>4k_a_6k</td>\n",
       "      <td>3k_a_5k</td>\n",
       "      <td>2y_a_4y</td>\n",
       "      <td>50k_a_100k</td>\n",
       "      <td>20_a_40</td>\n",
       "      <td>menor_10</td>\n",
       "      <td>25_a_30</td>\n",
       "      <td>10000</td>\n",
       "      <td>2</td>\n",
       "      <td>HIPOTECA</td>\n",
       "      <td>EDUCACIÓN</td>\n",
       "      <td>C</td>\n",
       "      <td>C</td>\n",
       "      <td>ACTIVO</td>\n",
       "      <td>F</td>\n",
       "      <td>UNIVERSITARIO_INCOMPLETO</td>\n",
       "      <td>2.0</td>\n",
       "    </tr>\n",
       "  </tbody>\n",
       "</table>\n",
       "</div>"
      ],
      "text/plain": [
       "  operaciones_ult_12m gastos_ult_12m limite_credito_tc antiguedad_cliente  \\\n",
       "0           mayor_100      mayor_10k           3k_a_5k            2y_a_4y   \n",
       "1             15_a_30       menor_1k           3k_a_5k            2y_a_4y   \n",
       "2             15_a_30        1k_a_4k          5k_a_10k            2y_a_4y   \n",
       "3            75_a_100        1k_a_4k          menor_3k           menor_2y   \n",
       "4             50_a_75        4k_a_6k           3k_a_5k            2y_a_4y   \n",
       "\n",
       "     ingresos pct_ingreso antiguedad_empleado      edad  importe_solicitado  \\\n",
       "0  50k_a_100k    hasta_20              5_a_10  menor_25               11000   \n",
       "1   20k_a_50k    hasta_20            menor_10  menor_25                1500   \n",
       "2   20k_a_50k     20_a_40              5_a_10  menor_25               10000   \n",
       "3   20k_a_50k     20_a_40            menor_10   25_a_30                6000   \n",
       "4  50k_a_100k     20_a_40            menor_10   25_a_30               10000   \n",
       "\n",
       "   duracion_credito situacion_vivienda objetivo_credito estado_credito  \\\n",
       "0                 3           HIPOTECA      INVERSIONES              C   \n",
       "1                 2           ALQUILER    MEJORAS_HOGAR              P   \n",
       "2                 2              OTROS        EDUCACIÓN              C   \n",
       "3                 4           ALQUILER      INVERSIONES              C   \n",
       "4                 2           HIPOTECA        EDUCACIÓN              C   \n",
       "\n",
       "  estado_civil estado_cliente genero           nivel_educativo  \\\n",
       "0            C         ACTIVO      F       SECUNDARIO_COMPLETO   \n",
       "1            S         PASIVO      M               DESCONOCIDO   \n",
       "2            D         PASIVO      M         POSGRADO_COMPLETO   \n",
       "3            S         ACTIVO      F  UNIVERSITARIO_INCOMPLETO   \n",
       "4            C         ACTIVO      F  UNIVERSITARIO_INCOMPLETO   \n",
       "\n",
       "   personas_a_cargo  \n",
       "0               3.0  \n",
       "1               0.0  \n",
       "2               3.0  \n",
       "3               2.0  \n",
       "4               2.0  "
      ]
     },
     "execution_count": 309,
     "metadata": {},
     "output_type": "execute_result"
    }
   ],
   "source": [
    "# Se separan los atributos de datos de los de la etiqueta del dataset\n",
    "\n",
    "labels = datos.falta_pago.values\n",
    "\n",
    "features = datos[['operaciones_ult_12m', 'gastos_ult_12m', 'limite_credito_tc',\n",
    "       'antiguedad_cliente', 'ingresos', 'pct_ingreso',\n",
    "       'antiguedad_empleado', 'edad', 'importe_solicitado', 'duracion_credito',\n",
    "       'situacion_vivienda', 'objetivo_credito', 'estado_credito',\n",
    "       'estado_civil', 'estado_cliente', 'genero',\n",
    "       'nivel_educativo', 'personas_a_cargo']]\n",
    "\n",
    "print(f\"Vista de los datos del atributo target: \\n{labels[:10]}\")\n",
    "print(\"-\"*50)\n",
    "print(\"Vista parcial de los datos sin el atributo target:\")\n",
    "features.head()"
   ]
  },
  {
   "cell_type": "code",
   "execution_count": 310,
   "metadata": {},
   "outputs": [
    {
     "data": {
      "text/html": [
       "<div>\n",
       "<style scoped>\n",
       "    .dataframe tbody tr th:only-of-type {\n",
       "        vertical-align: middle;\n",
       "    }\n",
       "\n",
       "    .dataframe tbody tr th {\n",
       "        vertical-align: top;\n",
       "    }\n",
       "\n",
       "    .dataframe thead th {\n",
       "        text-align: right;\n",
       "    }\n",
       "</style>\n",
       "<table border=\"1\" class=\"dataframe\">\n",
       "  <thead>\n",
       "    <tr style=\"text-align: right;\">\n",
       "      <th></th>\n",
       "      <th>importe_solicitado</th>\n",
       "      <th>duracion_credito</th>\n",
       "      <th>personas_a_cargo</th>\n",
       "      <th>operaciones_ult_12m_15_a_30</th>\n",
       "      <th>operaciones_ult_12m_30_a_50</th>\n",
       "      <th>operaciones_ult_12m_50_a_75</th>\n",
       "      <th>operaciones_ult_12m_75_a_100</th>\n",
       "      <th>operaciones_ult_12m_mayor_100</th>\n",
       "      <th>operaciones_ult_12m_menor_15</th>\n",
       "      <th>gastos_ult_12m_1k_a_4k</th>\n",
       "      <th>...</th>\n",
       "      <th>estado_cliente_ACTIVO</th>\n",
       "      <th>estado_cliente_PASIVO</th>\n",
       "      <th>genero_F</th>\n",
       "      <th>genero_M</th>\n",
       "      <th>nivel_educativo_DESCONOCIDO</th>\n",
       "      <th>nivel_educativo_POSGRADO_COMPLETO</th>\n",
       "      <th>nivel_educativo_POSGRADO_INCOMPLETO</th>\n",
       "      <th>nivel_educativo_SECUNDARIO_COMPLETO</th>\n",
       "      <th>nivel_educativo_UNIVERSITARIO_COMPLETO</th>\n",
       "      <th>nivel_educativo_UNIVERSITARIO_INCOMPLETO</th>\n",
       "    </tr>\n",
       "  </thead>\n",
       "  <tbody>\n",
       "    <tr>\n",
       "      <th>0</th>\n",
       "      <td>11000</td>\n",
       "      <td>3</td>\n",
       "      <td>3.0</td>\n",
       "      <td>False</td>\n",
       "      <td>False</td>\n",
       "      <td>False</td>\n",
       "      <td>False</td>\n",
       "      <td>True</td>\n",
       "      <td>False</td>\n",
       "      <td>False</td>\n",
       "      <td>...</td>\n",
       "      <td>True</td>\n",
       "      <td>False</td>\n",
       "      <td>True</td>\n",
       "      <td>False</td>\n",
       "      <td>False</td>\n",
       "      <td>False</td>\n",
       "      <td>False</td>\n",
       "      <td>True</td>\n",
       "      <td>False</td>\n",
       "      <td>False</td>\n",
       "    </tr>\n",
       "    <tr>\n",
       "      <th>1</th>\n",
       "      <td>1500</td>\n",
       "      <td>2</td>\n",
       "      <td>0.0</td>\n",
       "      <td>True</td>\n",
       "      <td>False</td>\n",
       "      <td>False</td>\n",
       "      <td>False</td>\n",
       "      <td>False</td>\n",
       "      <td>False</td>\n",
       "      <td>False</td>\n",
       "      <td>...</td>\n",
       "      <td>False</td>\n",
       "      <td>True</td>\n",
       "      <td>False</td>\n",
       "      <td>True</td>\n",
       "      <td>True</td>\n",
       "      <td>False</td>\n",
       "      <td>False</td>\n",
       "      <td>False</td>\n",
       "      <td>False</td>\n",
       "      <td>False</td>\n",
       "    </tr>\n",
       "    <tr>\n",
       "      <th>2</th>\n",
       "      <td>10000</td>\n",
       "      <td>2</td>\n",
       "      <td>3.0</td>\n",
       "      <td>True</td>\n",
       "      <td>False</td>\n",
       "      <td>False</td>\n",
       "      <td>False</td>\n",
       "      <td>False</td>\n",
       "      <td>False</td>\n",
       "      <td>True</td>\n",
       "      <td>...</td>\n",
       "      <td>False</td>\n",
       "      <td>True</td>\n",
       "      <td>False</td>\n",
       "      <td>True</td>\n",
       "      <td>False</td>\n",
       "      <td>True</td>\n",
       "      <td>False</td>\n",
       "      <td>False</td>\n",
       "      <td>False</td>\n",
       "      <td>False</td>\n",
       "    </tr>\n",
       "    <tr>\n",
       "      <th>3</th>\n",
       "      <td>6000</td>\n",
       "      <td>4</td>\n",
       "      <td>2.0</td>\n",
       "      <td>False</td>\n",
       "      <td>False</td>\n",
       "      <td>False</td>\n",
       "      <td>True</td>\n",
       "      <td>False</td>\n",
       "      <td>False</td>\n",
       "      <td>True</td>\n",
       "      <td>...</td>\n",
       "      <td>True</td>\n",
       "      <td>False</td>\n",
       "      <td>True</td>\n",
       "      <td>False</td>\n",
       "      <td>False</td>\n",
       "      <td>False</td>\n",
       "      <td>False</td>\n",
       "      <td>False</td>\n",
       "      <td>False</td>\n",
       "      <td>True</td>\n",
       "    </tr>\n",
       "    <tr>\n",
       "      <th>4</th>\n",
       "      <td>10000</td>\n",
       "      <td>2</td>\n",
       "      <td>2.0</td>\n",
       "      <td>False</td>\n",
       "      <td>False</td>\n",
       "      <td>True</td>\n",
       "      <td>False</td>\n",
       "      <td>False</td>\n",
       "      <td>False</td>\n",
       "      <td>False</td>\n",
       "      <td>...</td>\n",
       "      <td>True</td>\n",
       "      <td>False</td>\n",
       "      <td>True</td>\n",
       "      <td>False</td>\n",
       "      <td>False</td>\n",
       "      <td>False</td>\n",
       "      <td>False</td>\n",
       "      <td>False</td>\n",
       "      <td>False</td>\n",
       "      <td>True</td>\n",
       "    </tr>\n",
       "  </tbody>\n",
       "</table>\n",
       "<p>5 rows × 61 columns</p>\n",
       "</div>"
      ],
      "text/plain": [
       "   importe_solicitado  duracion_credito  personas_a_cargo  \\\n",
       "0               11000                 3               3.0   \n",
       "1                1500                 2               0.0   \n",
       "2               10000                 2               3.0   \n",
       "3                6000                 4               2.0   \n",
       "4               10000                 2               2.0   \n",
       "\n",
       "   operaciones_ult_12m_15_a_30  operaciones_ult_12m_30_a_50  \\\n",
       "0                        False                        False   \n",
       "1                         True                        False   \n",
       "2                         True                        False   \n",
       "3                        False                        False   \n",
       "4                        False                        False   \n",
       "\n",
       "   operaciones_ult_12m_50_a_75  operaciones_ult_12m_75_a_100  \\\n",
       "0                        False                         False   \n",
       "1                        False                         False   \n",
       "2                        False                         False   \n",
       "3                        False                          True   \n",
       "4                         True                         False   \n",
       "\n",
       "   operaciones_ult_12m_mayor_100  operaciones_ult_12m_menor_15  \\\n",
       "0                           True                         False   \n",
       "1                          False                         False   \n",
       "2                          False                         False   \n",
       "3                          False                         False   \n",
       "4                          False                         False   \n",
       "\n",
       "   gastos_ult_12m_1k_a_4k  ...  estado_cliente_ACTIVO  estado_cliente_PASIVO  \\\n",
       "0                   False  ...                   True                  False   \n",
       "1                   False  ...                  False                   True   \n",
       "2                    True  ...                  False                   True   \n",
       "3                    True  ...                   True                  False   \n",
       "4                   False  ...                   True                  False   \n",
       "\n",
       "   genero_F  genero_M  nivel_educativo_DESCONOCIDO  \\\n",
       "0      True     False                        False   \n",
       "1     False      True                         True   \n",
       "2     False      True                        False   \n",
       "3      True     False                        False   \n",
       "4      True     False                        False   \n",
       "\n",
       "   nivel_educativo_POSGRADO_COMPLETO  nivel_educativo_POSGRADO_INCOMPLETO  \\\n",
       "0                              False                                False   \n",
       "1                              False                                False   \n",
       "2                               True                                False   \n",
       "3                              False                                False   \n",
       "4                              False                                False   \n",
       "\n",
       "   nivel_educativo_SECUNDARIO_COMPLETO  \\\n",
       "0                                 True   \n",
       "1                                False   \n",
       "2                                False   \n",
       "3                                False   \n",
       "4                                False   \n",
       "\n",
       "   nivel_educativo_UNIVERSITARIO_COMPLETO  \\\n",
       "0                                   False   \n",
       "1                                   False   \n",
       "2                                   False   \n",
       "3                                   False   \n",
       "4                                   False   \n",
       "\n",
       "   nivel_educativo_UNIVERSITARIO_INCOMPLETO  \n",
       "0                                     False  \n",
       "1                                     False  \n",
       "2                                     False  \n",
       "3                                      True  \n",
       "4                                      True  \n",
       "\n",
       "[5 rows x 61 columns]"
      ]
     },
     "execution_count": 310,
     "metadata": {},
     "output_type": "execute_result"
    }
   ],
   "source": [
    "# Se pasa a binarizar los atributos\n",
    "data = pd.get_dummies(features)\n",
    "data.head()"
   ]
  },
  {
   "cell_type": "code",
   "execution_count": 311,
   "metadata": {},
   "outputs": [],
   "source": [
    "# Para evitar problemas con mlfow se hace una conversión de integer a double \n",
    "# de los atributos: 'importe_solicitado', 'duracion_credito' \n",
    "\n",
    "# Se filtran las columnas del tipo integer\n",
    "integer_columns = data.select_dtypes(include='int').columns\n",
    "\n",
    "# Convert integer columns to double\n",
    "data[integer_columns] = data[integer_columns].astype('float')"
   ]
  },
  {
   "cell_type": "code",
   "execution_count": 312,
   "metadata": {},
   "outputs": [
    {
     "name": "stdout",
     "output_type": "stream",
     "text": [
      "Un registro de entrenamiento: \n",
      "importe_solicitado                          12000.0\n",
      "duracion_credito                                3.0\n",
      "personas_a_cargo                                4.0\n",
      "operaciones_ult_12m_15_a_30                   False\n",
      "operaciones_ult_12m_30_a_50                    True\n",
      "                                             ...   \n",
      "nivel_educativo_POSGRADO_COMPLETO             False\n",
      "nivel_educativo_POSGRADO_INCOMPLETO           False\n",
      "nivel_educativo_SECUNDARIO_COMPLETO            True\n",
      "nivel_educativo_UNIVERSITARIO_COMPLETO        False\n",
      "nivel_educativo_UNIVERSITARIO_INCOMPLETO      False\n",
      "Name: 6443, Length: 61, dtype: object\n",
      "--------------------------------------------------\n",
      "Label del registro: \n",
      "N\n",
      "\n",
      "##################################################\n",
      "##################################################\n",
      "\n",
      "Un registro de testeo: \n",
      "importe_solicitado                          7000.0\n",
      "duracion_credito                               2.0\n",
      "personas_a_cargo                               1.0\n",
      "operaciones_ult_12m_15_a_30                  False\n",
      "operaciones_ult_12m_30_a_50                  False\n",
      "                                             ...  \n",
      "nivel_educativo_POSGRADO_COMPLETO            False\n",
      "nivel_educativo_POSGRADO_INCOMPLETO          False\n",
      "nivel_educativo_SECUNDARIO_COMPLETO          False\n",
      "nivel_educativo_UNIVERSITARIO_COMPLETO        True\n",
      "nivel_educativo_UNIVERSITARIO_INCOMPLETO     False\n",
      "Name: 5345, Length: 61, dtype: object\n",
      "--------------------------------------------------\n",
      "Label del registro: \n",
      "N\n"
     ]
    }
   ],
   "source": [
    "# Se reparten los datos disponibles en conjuntos para entrenamiento y testeo\n",
    "\n",
    "train_data, test_data, train_labels, test_labels = train_test_split(data, labels) \n",
    "\n",
    "# Toma por defecto 75% (entrenamiento) - 25% (testeo)\n",
    "\n",
    "# Vista de los datos de entrenamiento para una fila\n",
    "\n",
    "print(f\"Un registro de entrenamiento: \\n{train_data.iloc[1]}\")\n",
    "print(\"-\"*50)\n",
    "print(f\"Label del registro: \\n{train_labels[1]}\\n\")\n",
    "\n",
    "print(\"#\"*50)\n",
    "print(\"#\"*50)\n",
    "\n",
    "# Vista de los datos de testeo para una fila\n",
    "\n",
    "print(f\"\\nUn registro de testeo: \\n{test_data.iloc[1]}\")\n",
    "print(\"-\"*50)\n",
    "print(f\"Label del registro: \\n{test_labels[1]}\")"
   ]
  },
  {
   "cell_type": "code",
   "execution_count": 313,
   "metadata": {},
   "outputs": [],
   "source": [
    "# Configuración de la evaluación\n",
    "\n",
    "def evaluar_modelo(modelo, test_data, test_labels):\n",
    "    prediction = modelo.predict(test_data)\n",
    "    print('Rendimiento obtenido:',accuracy_score(test_labels,prediction))\n",
    "    print('Reporte de indicadores:\\n',classification_report(test_labels,prediction))\n",
    "    print('Matriz de confusión:')\n",
    "    cm = confusion_matrix(test_labels, prediction, labels=modelo.classes_)\n",
    "    disp = ConfusionMatrixDisplay(confusion_matrix=cm,\n",
    "                                   display_labels=modelo.classes_)\n",
    "    disp.plot()\n",
    "    plt.show()"
   ]
  },
  {
   "cell_type": "code",
   "execution_count": 314,
   "metadata": {},
   "outputs": [],
   "source": [
    "# Para obtener todos los parámetros y no solo los modificados\n",
    "\n",
    "from sklearn import set_config\n",
    "\n",
    "set_config(print_changed_only=False)"
   ]
  },
  {
   "cell_type": "code",
   "execution_count": 315,
   "metadata": {},
   "outputs": [
    {
     "name": "stderr",
     "output_type": "stream",
     "text": [
      "2023/12/06 20:40:11 INFO mlflow.utils.autologging_utils: Created MLflow autologging run with ID '377bb99205864689b1a00ae76cf4ae99', which will track hyperparameters, performance metrics, model artifacts, and lineage information for the current sklearn workflow\n",
      "c:\\Users\\Antonio\\miniconda3\\envs\\MBID13\\Lib\\site-packages\\sklearn\\metrics\\_classification.py:1469: UndefinedMetricWarning: Precision is ill-defined and being set to 0.0 in labels with no predicted samples. Use `zero_division` parameter to control this behavior.\n",
      "  _warn_prf(average, modifier, msg_start, len(result))\n"
     ]
    },
    {
     "data": {
      "text/html": [
       "<style>#sk-container-id-82 {color: black;}#sk-container-id-82 pre{padding: 0;}#sk-container-id-82 div.sk-toggleable {background-color: white;}#sk-container-id-82 label.sk-toggleable__label {cursor: pointer;display: block;width: 100%;margin-bottom: 0;padding: 0.3em;box-sizing: border-box;text-align: center;}#sk-container-id-82 label.sk-toggleable__label-arrow:before {content: \"▸\";float: left;margin-right: 0.25em;color: #696969;}#sk-container-id-82 label.sk-toggleable__label-arrow:hover:before {color: black;}#sk-container-id-82 div.sk-estimator:hover label.sk-toggleable__label-arrow:before {color: black;}#sk-container-id-82 div.sk-toggleable__content {max-height: 0;max-width: 0;overflow: hidden;text-align: left;background-color: #f0f8ff;}#sk-container-id-82 div.sk-toggleable__content pre {margin: 0.2em;color: black;border-radius: 0.25em;background-color: #f0f8ff;}#sk-container-id-82 input.sk-toggleable__control:checked~div.sk-toggleable__content {max-height: 200px;max-width: 100%;overflow: auto;}#sk-container-id-82 input.sk-toggleable__control:checked~label.sk-toggleable__label-arrow:before {content: \"▾\";}#sk-container-id-82 div.sk-estimator input.sk-toggleable__control:checked~label.sk-toggleable__label {background-color: #d4ebff;}#sk-container-id-82 div.sk-label input.sk-toggleable__control:checked~label.sk-toggleable__label {background-color: #d4ebff;}#sk-container-id-82 input.sk-hidden--visually {border: 0;clip: rect(1px 1px 1px 1px);clip: rect(1px, 1px, 1px, 1px);height: 1px;margin: -1px;overflow: hidden;padding: 0;position: absolute;width: 1px;}#sk-container-id-82 div.sk-estimator {font-family: monospace;background-color: #f0f8ff;border: 1px dotted black;border-radius: 0.25em;box-sizing: border-box;margin-bottom: 0.5em;}#sk-container-id-82 div.sk-estimator:hover {background-color: #d4ebff;}#sk-container-id-82 div.sk-parallel-item::after {content: \"\";width: 100%;border-bottom: 1px solid gray;flex-grow: 1;}#sk-container-id-82 div.sk-label:hover label.sk-toggleable__label {background-color: #d4ebff;}#sk-container-id-82 div.sk-serial::before {content: \"\";position: absolute;border-left: 1px solid gray;box-sizing: border-box;top: 0;bottom: 0;left: 50%;z-index: 0;}#sk-container-id-82 div.sk-serial {display: flex;flex-direction: column;align-items: center;background-color: white;padding-right: 0.2em;padding-left: 0.2em;position: relative;}#sk-container-id-82 div.sk-item {position: relative;z-index: 1;}#sk-container-id-82 div.sk-parallel {display: flex;align-items: stretch;justify-content: center;background-color: white;position: relative;}#sk-container-id-82 div.sk-item::before, #sk-container-id-82 div.sk-parallel-item::before {content: \"\";position: absolute;border-left: 1px solid gray;box-sizing: border-box;top: 0;bottom: 0;left: 50%;z-index: -1;}#sk-container-id-82 div.sk-parallel-item {display: flex;flex-direction: column;z-index: 1;position: relative;background-color: white;}#sk-container-id-82 div.sk-parallel-item:first-child::after {align-self: flex-end;width: 50%;}#sk-container-id-82 div.sk-parallel-item:last-child::after {align-self: flex-start;width: 50%;}#sk-container-id-82 div.sk-parallel-item:only-child::after {width: 0;}#sk-container-id-82 div.sk-dashed-wrapped {border: 1px dashed gray;margin: 0 0.4em 0.5em 0.4em;box-sizing: border-box;padding-bottom: 0.4em;background-color: white;}#sk-container-id-82 div.sk-label label {font-family: monospace;font-weight: bold;display: inline-block;line-height: 1.2em;}#sk-container-id-82 div.sk-label-container {text-align: center;}#sk-container-id-82 div.sk-container {/* jupyter's `normalize.less` sets `[hidden] { display: none; }` but bootstrap.min.css set `[hidden] { display: none !important; }` so we also need the `!important` here to be able to override the default hidden behavior on the sphinx rendered scikit-learn.org. See: https://github.com/scikit-learn/scikit-learn/issues/21755 */display: inline-block !important;position: relative;}#sk-container-id-82 div.sk-text-repr-fallback {display: none;}</style><div id=\"sk-container-id-82\" class=\"sk-top-container\"><div class=\"sk-text-repr-fallback\"><pre>DummyClassifier(constant=None, random_state=None, strategy=&#x27;prior&#x27;)</pre><b>In a Jupyter environment, please rerun this cell to show the HTML representation or trust the notebook. <br />On GitHub, the HTML representation is unable to render, please try loading this page with nbviewer.org.</b></div><div class=\"sk-container\" hidden><div class=\"sk-item\"><div class=\"sk-estimator sk-toggleable\"><input class=\"sk-toggleable__control sk-hidden--visually\" id=\"sk-estimator-id-82\" type=\"checkbox\" checked><label for=\"sk-estimator-id-82\" class=\"sk-toggleable__label sk-toggleable__label-arrow\">DummyClassifier</label><div class=\"sk-toggleable__content\"><pre>DummyClassifier(constant=None, random_state=None, strategy=&#x27;prior&#x27;)</pre></div></div></div></div></div>"
      ],
      "text/plain": [
       "DummyClassifier(constant=None, random_state=None, strategy='prior')"
      ]
     },
     "execution_count": 315,
     "metadata": {},
     "output_type": "execute_result"
    }
   ],
   "source": [
    "from sklearn.dummy import DummyClassifier\n",
    "\n",
    "clf = DummyClassifier()\n",
    "clf.fit(train_data, train_labels)"
   ]
  },
  {
   "cell_type": "code",
   "execution_count": 316,
   "metadata": {},
   "outputs": [
    {
     "name": "stdout",
     "output_type": "stream",
     "text": [
      "Rendimiento obtenido: 0.819000819000819\n",
      "Vista de una muestra de valores de predicción y datos de testeo:\n",
      "['N' 'N' 'N' 'N' 'N' 'N' 'N' 'N' 'N' 'N']\n",
      "['N' 'N' 'Y' 'N' 'N' 'N' 'N' 'Y' 'N' 'N']\n"
     ]
    }
   ],
   "source": [
    "prediction = clf.predict(test_data)\n",
    "\n",
    "print('Rendimiento obtenido:',accuracy_score(test_labels, prediction))\n",
    "print('Vista de una muestra de valores de predicción y datos de testeo:')\n",
    "print(prediction[:10])\n",
    "print(test_labels[:10])"
   ]
  },
  {
   "cell_type": "markdown",
   "metadata": {},
   "source": [
    "----\n",
    "Se pasa a configurar la serie de experimentos en **mlflow**"
   ]
  },
  {
   "cell_type": "code",
   "execution_count": 317,
   "metadata": {},
   "outputs": [
    {
     "name": "stderr",
     "output_type": "stream",
     "text": [
      "WARNING:root:Malformed experiment 'mlruns'. Detailed error Yaml file 'C:\\Users\\Antonio\\13MBID\\notebooks\\03 Modelado+Evaluación\\mlruns\\mlruns\\meta.yaml' does not exist.\n",
      "Traceback (most recent call last):\n",
      "  File \"c:\\Users\\Antonio\\miniconda3\\envs\\MBID13\\Lib\\site-packages\\mlflow\\store\\tracking\\file_store.py\", line 303, in search_experiments\n",
      "    exp = self._get_experiment(exp_id, view_type)\n",
      "          ^^^^^^^^^^^^^^^^^^^^^^^^^^^^^^^^^^^^^^^\n",
      "  File \"c:\\Users\\Antonio\\miniconda3\\envs\\MBID13\\Lib\\site-packages\\mlflow\\store\\tracking\\file_store.py\", line 396, in _get_experiment\n",
      "    meta = FileStore._read_yaml(experiment_dir, FileStore.META_DATA_FILE_NAME)\n",
      "           ^^^^^^^^^^^^^^^^^^^^^^^^^^^^^^^^^^^^^^^^^^^^^^^^^^^^^^^^^^^^^^^^^^^\n",
      "  File \"c:\\Users\\Antonio\\miniconda3\\envs\\MBID13\\Lib\\site-packages\\mlflow\\store\\tracking\\file_store.py\", line 1304, in _read_yaml\n",
      "    return _read_helper(root, file_name, attempts_remaining=retries)\n",
      "           ^^^^^^^^^^^^^^^^^^^^^^^^^^^^^^^^^^^^^^^^^^^^^^^^^^^^^^^^^\n",
      "  File \"c:\\Users\\Antonio\\miniconda3\\envs\\MBID13\\Lib\\site-packages\\mlflow\\store\\tracking\\file_store.py\", line 1297, in _read_helper\n",
      "    result = read_yaml(root, file_name)\n",
      "             ^^^^^^^^^^^^^^^^^^^^^^^^^^\n",
      "  File \"c:\\Users\\Antonio\\miniconda3\\envs\\MBID13\\Lib\\site-packages\\mlflow\\utils\\file_utils.py\", line 285, in read_yaml\n",
      "    raise MissingConfigException(f\"Yaml file '{file_path}' does not exist.\")\n",
      "mlflow.exceptions.MissingConfigException: Yaml file 'C:\\Users\\Antonio\\13MBID\\notebooks\\03 Modelado+Evaluación\\mlruns\\mlruns\\meta.yaml' does not exist.\n",
      "2023/12/06 20:40:17 INFO mlflow.tracking.fluent: Autologging successfully enabled for sklearn.\n"
     ]
    }
   ],
   "source": [
    "# Se establece un nombre para identificar la serie de experimentos\n",
    "\n",
    "mlflow.set_experiment(experiment_name=\"Prueba #1\")\n",
    "mlflow.autolog()"
   ]
  },
  {
   "cell_type": "markdown",
   "metadata": {},
   "source": [
    "#### Regresión Logística"
   ]
  },
  {
   "cell_type": "code",
   "execution_count": 318,
   "metadata": {},
   "outputs": [],
   "source": [
    "from sklearn.linear_model import LogisticRegression\n",
    "\n",
    "with mlflow.start_run(run_name='Logistic Regression'):\n",
    "    lreg = LogisticRegression(solver = 'liblinear', random_state=0)\n",
    "\n",
    "    lreg.fit(train_data, train_labels)"
   ]
  },
  {
   "cell_type": "code",
   "execution_count": 319,
   "metadata": {},
   "outputs": [
    {
     "name": "stdout",
     "output_type": "stream",
     "text": [
      "Rendimiento obtenido: 0.8632268632268633\n",
      "Reporte de indicadores:\n",
      "               precision    recall  f1-score   support\n",
      "\n",
      "           N       0.91      0.93      0.92      2000\n",
      "           Y       0.64      0.56      0.60       442\n",
      "\n",
      "    accuracy                           0.86      2442\n",
      "   macro avg       0.77      0.75      0.76      2442\n",
      "weighted avg       0.86      0.86      0.86      2442\n",
      "\n",
      "Matriz de confusión:\n"
     ]
    },
    {
     "data": {
      "image/png": "[encoded data removed]",
      "text/plain": [
       "<Figure size 640x480 with 2 Axes>"
      ]
     },
     "metadata": {},
     "output_type": "display_data"
    }
   ],
   "source": [
    "evaluar_modelo(lreg, test_data, test_labels)"
   ]
  },
  {
   "cell_type": "markdown",
   "metadata": {},
   "source": [
    "#### KNN"
   ]
  },
  {
   "cell_type": "code",
   "execution_count": 320,
   "metadata": {},
   "outputs": [],
   "source": [
    "from sklearn.neighbors import KNeighborsClassifier\n",
    "\n",
    "with mlflow.start_run(run_name='KNN'):\n",
    "    knn = KNeighborsClassifier(n_neighbors=50, \n",
    "                               algorithm = 'ball_tree', \n",
    "                               leaf_size = 25)\n",
    "\n",
    "    knn.fit(train_data, train_labels)"
   ]
  },
  {
   "cell_type": "code",
   "execution_count": 321,
   "metadata": {},
   "outputs": [
    {
     "name": "stdout",
     "output_type": "stream",
     "text": [
      "Rendimiento obtenido: 0.8181818181818182\n",
      "Reporte de indicadores:\n",
      "               precision    recall  f1-score   support\n",
      "\n",
      "           N       0.82      1.00      0.90      2000\n",
      "           Y       0.42      0.01      0.02       442\n",
      "\n",
      "    accuracy                           0.82      2442\n",
      "   macro avg       0.62      0.50      0.46      2442\n",
      "weighted avg       0.75      0.82      0.74      2442\n",
      "\n",
      "Matriz de confusión:\n"
     ]
    },
    {
     "data": {
      "image/png": "[encoded data removed]",
      "text/plain": [
       "<Figure size 640x480 with 2 Axes>"
      ]
     },
     "metadata": {},
     "output_type": "display_data"
    }
   ],
   "source": [
    "evaluar_modelo(knn, test_data, test_labels)"
   ]
  },
  {
   "cell_type": "markdown",
   "metadata": {},
   "source": [
    "#### Árboles de Decisión (TDIDT)"
   ]
  },
  {
   "cell_type": "code",
   "execution_count": 322,
   "metadata": {},
   "outputs": [],
   "source": [
    "from sklearn.tree import DecisionTreeClassifier\n",
    "\n",
    "with mlflow.start_run(run_name='Decision Tree'):\n",
    "    dtc = DecisionTreeClassifier(max_depth=3, \n",
    "                                 criterion='entropy', \n",
    "                                 min_samples_split=10, \n",
    "                                 random_state=0)\n",
    "\n",
    "    dtc.fit(train_data, train_labels)"
   ]
  },
  {
   "cell_type": "code",
   "execution_count": 323,
   "metadata": {},
   "outputs": [
    {
     "name": "stdout",
     "output_type": "stream",
     "text": [
      "Rendimiento obtenido: 0.8660933660933661\n",
      "Reporte de indicadores:\n",
      "               precision    recall  f1-score   support\n",
      "\n",
      "           N       0.91      0.92      0.92      2000\n",
      "           Y       0.64      0.61      0.62       442\n",
      "\n",
      "    accuracy                           0.87      2442\n",
      "   macro avg       0.78      0.76      0.77      2442\n",
      "weighted avg       0.86      0.87      0.86      2442\n",
      "\n",
      "Matriz de confusión:\n"
     ]
    },
    {
     "data": {
      "image/png": "[encoded data removed]",
      "text/plain": [
       "<Figure size 640x480 with 2 Axes>"
      ]
     },
     "metadata": {},
     "output_type": "display_data"
    }
   ],
   "source": [
    "evaluar_modelo(dtc, test_data, test_labels)"
   ]
  },
  {
   "cell_type": "markdown",
   "metadata": {},
   "source": [
    "#### Métodos de ensamblado de modelos: RandomForest"
   ]
  },
  {
   "cell_type": "code",
   "execution_count": 324,
   "metadata": {},
   "outputs": [],
   "source": [
    "from sklearn.ensemble import RandomForestClassifier\n",
    "\n",
    "with mlflow.start_run(run_name='Random Forest'):\n",
    "    rndf = RandomForestClassifier(n_estimators=10, random_state=0)  # default_criterion='gini'\n",
    "    rndf.fit(train_data, train_labels)"
   ]
  },
  {
   "cell_type": "code",
   "execution_count": 325,
   "metadata": {},
   "outputs": [
    {
     "name": "stdout",
     "output_type": "stream",
     "text": [
      "Rendimiento obtenido: 0.85995085995086\n",
      "Reporte de indicadores:\n",
      "               precision    recall  f1-score   support\n",
      "\n",
      "           N       0.89      0.95      0.92      2000\n",
      "           Y       0.66      0.46      0.55       442\n",
      "\n",
      "    accuracy                           0.86      2442\n",
      "   macro avg       0.78      0.71      0.73      2442\n",
      "weighted avg       0.85      0.86      0.85      2442\n",
      "\n",
      "Matriz de confusión:\n"
     ]
    },
    {
     "data": {
      "image/png": "[encoded data removed]",
      "text/plain": [
       "<Figure size 640x480 with 2 Axes>"
      ]
     },
     "metadata": {},
     "output_type": "display_data"
    }
   ],
   "source": [
    "evaluar_modelo(rndf, test_data, test_labels)"
   ]
  },
  {
   "cell_type": "markdown",
   "metadata": {},
   "source": [
    "#### Métodos de refuerzo de gradiente: GradientBoosting"
   ]
  },
  {
   "cell_type": "code",
   "execution_count": 326,
   "metadata": {},
   "outputs": [],
   "source": [
    "from sklearn.ensemble import GradientBoostingClassifier\n",
    "\n",
    "with mlflow.start_run(run_name='Gradient Boosting'):\n",
    "    gb = GradientBoostingClassifier(n_estimators=10, random_state=0)  # default_criterion='friedman_mse'\n",
    "    gb.fit(train_data, train_labels)"
   ]
  },
  {
   "cell_type": "code",
   "execution_count": 327,
   "metadata": {},
   "outputs": [
    {
     "name": "stdout",
     "output_type": "stream",
     "text": [
      "Rendimiento obtenido: 0.8574938574938575\n",
      "Reporte de indicadores:\n",
      "               precision    recall  f1-score   support\n",
      "\n",
      "           N       0.86      0.99      0.92      2000\n",
      "           Y       0.81      0.28      0.41       442\n",
      "\n",
      "    accuracy                           0.86      2442\n",
      "   macro avg       0.83      0.63      0.67      2442\n",
      "weighted avg       0.85      0.86      0.83      2442\n",
      "\n",
      "Matriz de confusión:\n"
     ]
    },
    {
     "data": {
      "image/png": "[encoded data removed]",
      "text/plain": [
       "<Figure size 640x480 with 2 Axes>"
      ]
     },
     "metadata": {},
     "output_type": "display_data"
    }
   ],
   "source": [
    "evaluar_modelo(gb, test_data, test_labels)"
   ]
  },
  {
   "cell_type": "markdown",
   "metadata": {},
   "source": [
    "----\n",
    "Prueba #2"
   ]
  },
  {
   "cell_type": "code",
   "execution_count": 328,
   "metadata": {},
   "outputs": [
    {
     "name": "stderr",
     "output_type": "stream",
     "text": [
      "WARNING:root:Malformed experiment 'mlruns'. Detailed error Yaml file 'C:\\Users\\Antonio\\13MBID\\notebooks\\03 Modelado+Evaluación\\mlruns\\mlruns\\meta.yaml' does not exist.\n",
      "Traceback (most recent call last):\n",
      "  File \"c:\\Users\\Antonio\\miniconda3\\envs\\MBID13\\Lib\\site-packages\\mlflow\\store\\tracking\\file_store.py\", line 303, in search_experiments\n",
      "    exp = self._get_experiment(exp_id, view_type)\n",
      "          ^^^^^^^^^^^^^^^^^^^^^^^^^^^^^^^^^^^^^^^\n",
      "  File \"c:\\Users\\Antonio\\miniconda3\\envs\\MBID13\\Lib\\site-packages\\mlflow\\store\\tracking\\file_store.py\", line 396, in _get_experiment\n",
      "    meta = FileStore._read_yaml(experiment_dir, FileStore.META_DATA_FILE_NAME)\n",
      "           ^^^^^^^^^^^^^^^^^^^^^^^^^^^^^^^^^^^^^^^^^^^^^^^^^^^^^^^^^^^^^^^^^^^\n",
      "  File \"c:\\Users\\Antonio\\miniconda3\\envs\\MBID13\\Lib\\site-packages\\mlflow\\store\\tracking\\file_store.py\", line 1304, in _read_yaml\n",
      "    return _read_helper(root, file_name, attempts_remaining=retries)\n",
      "           ^^^^^^^^^^^^^^^^^^^^^^^^^^^^^^^^^^^^^^^^^^^^^^^^^^^^^^^^^\n",
      "  File \"c:\\Users\\Antonio\\miniconda3\\envs\\MBID13\\Lib\\site-packages\\mlflow\\store\\tracking\\file_store.py\", line 1297, in _read_helper\n",
      "    result = read_yaml(root, file_name)\n",
      "             ^^^^^^^^^^^^^^^^^^^^^^^^^^\n",
      "  File \"c:\\Users\\Antonio\\miniconda3\\envs\\MBID13\\Lib\\site-packages\\mlflow\\utils\\file_utils.py\", line 285, in read_yaml\n",
      "    raise MissingConfigException(f\"Yaml file '{file_path}' does not exist.\")\n",
      "mlflow.exceptions.MissingConfigException: Yaml file 'C:\\Users\\Antonio\\13MBID\\notebooks\\03 Modelado+Evaluación\\mlruns\\mlruns\\meta.yaml' does not exist.\n"
     ]
    },
    {
     "data": {
      "text/plain": [
       "<Experiment: artifact_location='file:///c:/Users/Antonio/13MBID/notebooks/03%20Modelado%2BEvaluaci%C3%B3n/mlruns/326040491881259975', creation_time=1701885621584, experiment_id='326040491881259975', last_update_time=1701885621584, lifecycle_stage='active', name='Prueba #2', tags={}>"
      ]
     },
     "execution_count": 328,
     "metadata": {},
     "output_type": "execute_result"
    }
   ],
   "source": [
    "mlflow.set_experiment(experiment_name=\"Prueba #2\")\n"
   ]
  },
  {
   "cell_type": "code",
   "execution_count": 329,
   "metadata": {},
   "outputs": [],
   "source": [
    "with mlflow.start_run(run_name='Decision Tree (#2)'):\n",
    "    dtc = DecisionTreeClassifier(max_depth=5, \n",
    "                                 criterion='entropy', \n",
    "                                 min_samples_split=15, \n",
    "                                 random_state=0)\n",
    "\n",
    "    dtc.fit(train_data, train_labels)"
   ]
  },
  {
   "cell_type": "code",
   "execution_count": 330,
   "metadata": {},
   "outputs": [
    {
     "name": "stdout",
     "output_type": "stream",
     "text": [
      "Salida de resultado de la evaluación correspondientes a la Prueba #2\n",
      "Rendimiento obtenido: 0.8742833742833743\n",
      "Reporte de indicadores:\n",
      "               precision    recall  f1-score   support\n",
      "\n",
      "           N       0.89      0.96      0.93      2000\n",
      "           Y       0.74      0.47      0.58       442\n",
      "\n",
      "    accuracy                           0.87      2442\n",
      "   macro avg       0.82      0.72      0.75      2442\n",
      "weighted avg       0.86      0.87      0.86      2442\n",
      "\n",
      "Matriz de confusión:\n"
     ]
    },
    {
     "data": {
      "image/png": "[encoded data removed]",
      "text/plain": [
       "<Figure size 640x480 with 2 Axes>"
      ]
     },
     "metadata": {},
     "output_type": "display_data"
    }
   ],
   "source": [
    "print(\"Salida de resultado de la evaluación correspondientes a la Prueba #2\")\n",
    "evaluar_modelo(dtc, test_data, test_labels)"
   ]
  },
  {
   "cell_type": "code",
   "execution_count": 331,
   "metadata": {},
   "outputs": [],
   "source": [
    "with mlflow.start_run(run_name='Random Forest (#2)'):\n",
    "    rndf = RandomForestClassifier(n_estimators=100, criterion='entropy', random_state=0)\n",
    "    rndf.fit(train_data, train_labels)"
   ]
  },
  {
   "cell_type": "code",
   "execution_count": 332,
   "metadata": {},
   "outputs": [
    {
     "name": "stdout",
     "output_type": "stream",
     "text": [
      "Rendimiento obtenido: 0.8677313677313677\n",
      "Reporte de indicadores:\n",
      "               precision    recall  f1-score   support\n",
      "\n",
      "           N       0.90      0.95      0.92      2000\n",
      "           Y       0.68      0.51      0.58       442\n",
      "\n",
      "    accuracy                           0.87      2442\n",
      "   macro avg       0.79      0.73      0.75      2442\n",
      "weighted avg       0.86      0.87      0.86      2442\n",
      "\n",
      "Matriz de confusión:\n"
     ]
    },
    {
     "data": {
      "image/png": "[encoded data removed]",
      "text/plain": [
       "<Figure size 640x480 with 2 Axes>"
      ]
     },
     "metadata": {},
     "output_type": "display_data"
    }
   ],
   "source": [
    "evaluar_modelo(rndf, test_data, test_labels)"
   ]
  },
  {
   "cell_type": "code",
   "execution_count": 333,
   "metadata": {},
   "outputs": [],
   "source": [
    "with mlflow.start_run(run_name='Gradient Boosting (#2)'):\n",
    "    gb = GradientBoostingClassifier(n_estimators=50, criterion='squared_error', random_state=0)\n",
    "    gb.fit(train_data, train_labels)"
   ]
  },
  {
   "cell_type": "code",
   "execution_count": 334,
   "metadata": {},
   "outputs": [
    {
     "name": "stdout",
     "output_type": "stream",
     "text": [
      "Rendimiento obtenido: 0.871007371007371\n",
      "Reporte de indicadores:\n",
      "               precision    recall  f1-score   support\n",
      "\n",
      "           N       0.91      0.94      0.92      2000\n",
      "           Y       0.66      0.58      0.62       442\n",
      "\n",
      "    accuracy                           0.87      2442\n",
      "   macro avg       0.79      0.76      0.77      2442\n",
      "weighted avg       0.87      0.87      0.87      2442\n",
      "\n",
      "Matriz de confusión:\n"
     ]
    },
    {
     "data": {
      "image/png": "[encoded data removed]",
      "text/plain": [
       "<Figure size 640x480 with 2 Axes>"
      ]
     },
     "metadata": {},
     "output_type": "display_data"
    }
   ],
   "source": [
    "evaluar_modelo(gb, test_data, test_labels)"
   ]
  },
  {
   "cell_type": "markdown",
   "metadata": {},
   "source": [
    "----\n",
    "Prueba #3"
   ]
  },
  {
   "cell_type": "code",
   "execution_count": 335,
   "metadata": {},
   "outputs": [
    {
     "name": "stderr",
     "output_type": "stream",
     "text": [
      "WARNING:root:Malformed experiment 'mlruns'. Detailed error Yaml file 'C:\\Users\\Antonio\\13MBID\\notebooks\\03 Modelado+Evaluación\\mlruns\\mlruns\\meta.yaml' does not exist.\n",
      "Traceback (most recent call last):\n",
      "  File \"c:\\Users\\Antonio\\miniconda3\\envs\\MBID13\\Lib\\site-packages\\mlflow\\store\\tracking\\file_store.py\", line 303, in search_experiments\n",
      "    exp = self._get_experiment(exp_id, view_type)\n",
      "          ^^^^^^^^^^^^^^^^^^^^^^^^^^^^^^^^^^^^^^^\n",
      "  File \"c:\\Users\\Antonio\\miniconda3\\envs\\MBID13\\Lib\\site-packages\\mlflow\\store\\tracking\\file_store.py\", line 396, in _get_experiment\n",
      "    meta = FileStore._read_yaml(experiment_dir, FileStore.META_DATA_FILE_NAME)\n",
      "           ^^^^^^^^^^^^^^^^^^^^^^^^^^^^^^^^^^^^^^^^^^^^^^^^^^^^^^^^^^^^^^^^^^^\n",
      "  File \"c:\\Users\\Antonio\\miniconda3\\envs\\MBID13\\Lib\\site-packages\\mlflow\\store\\tracking\\file_store.py\", line 1304, in _read_yaml\n",
      "    return _read_helper(root, file_name, attempts_remaining=retries)\n",
      "           ^^^^^^^^^^^^^^^^^^^^^^^^^^^^^^^^^^^^^^^^^^^^^^^^^^^^^^^^^\n",
      "  File \"c:\\Users\\Antonio\\miniconda3\\envs\\MBID13\\Lib\\site-packages\\mlflow\\store\\tracking\\file_store.py\", line 1297, in _read_helper\n",
      "    result = read_yaml(root, file_name)\n",
      "             ^^^^^^^^^^^^^^^^^^^^^^^^^^\n",
      "  File \"c:\\Users\\Antonio\\miniconda3\\envs\\MBID13\\Lib\\site-packages\\mlflow\\utils\\file_utils.py\", line 285, in read_yaml\n",
      "    raise MissingConfigException(f\"Yaml file '{file_path}' does not exist.\")\n",
      "mlflow.exceptions.MissingConfigException: Yaml file 'C:\\Users\\Antonio\\13MBID\\notebooks\\03 Modelado+Evaluación\\mlruns\\mlruns\\meta.yaml' does not exist.\n"
     ]
    },
    {
     "data": {
      "text/plain": [
       "<Experiment: artifact_location='file:///c:/Users/Antonio/13MBID/notebooks/03%20Modelado%2BEvaluaci%C3%B3n/mlruns/805830569230526417', creation_time=1701885639565, experiment_id='805830569230526417', last_update_time=1701885639565, lifecycle_stage='active', name='Prueba #3', tags={}>"
      ]
     },
     "execution_count": 335,
     "metadata": {},
     "output_type": "execute_result"
    }
   ],
   "source": [
    "mlflow.set_experiment(experiment_name=\"Prueba #3\")"
   ]
  },
  {
   "cell_type": "code",
   "execution_count": 336,
   "metadata": {},
   "outputs": [],
   "source": [
    "with mlflow.start_run(run_name='Random Forest (#3)'):\n",
    "    rndf = RandomForestClassifier(n_estimators=150, criterion='log_loss', random_state=0)\n",
    "    rndf.fit(train_data, train_labels)"
   ]
  },
  {
   "cell_type": "code",
   "execution_count": 337,
   "metadata": {},
   "outputs": [
    {
     "name": "stdout",
     "output_type": "stream",
     "text": [
      "Rendimiento obtenido: 0.8677313677313677\n",
      "Reporte de indicadores:\n",
      "               precision    recall  f1-score   support\n",
      "\n",
      "           N       0.90      0.95      0.92      2000\n",
      "           Y       0.68      0.51      0.58       442\n",
      "\n",
      "    accuracy                           0.87      2442\n",
      "   macro avg       0.79      0.73      0.75      2442\n",
      "weighted avg       0.86      0.87      0.86      2442\n",
      "\n",
      "Matriz de confusión:\n"
     ]
    },
    {
     "data": {
      "image/png": "[encoded data removed]",
      "text/plain": [
       "<Figure size 640x480 with 2 Axes>"
      ]
     },
     "metadata": {},
     "output_type": "display_data"
    }
   ],
   "source": [
    "evaluar_modelo(rndf, test_data, test_labels)"
   ]
  },
  {
   "cell_type": "code",
   "execution_count": 363,
   "metadata": {},
   "outputs": [],
   "source": [
    "with mlflow.start_run(run_name='Gradient Boosting (#3)'):\n",
    "    gb = GradientBoostingClassifier(n_estimators=40, criterion='squared_error', random_state=0)\n",
    "    gb.fit(train_data, train_labels)"
   ]
  },
  {
   "cell_type": "code",
   "execution_count": 364,
   "metadata": {},
   "outputs": [
    {
     "name": "stdout",
     "output_type": "stream",
     "text": [
      "Rendimiento obtenido: 0.8714168714168714\n",
      "Reporte de indicadores:\n",
      "               precision    recall  f1-score   support\n",
      "\n",
      "           N       0.91      0.94      0.92      2000\n",
      "           Y       0.67      0.58      0.62       442\n",
      "\n",
      "    accuracy                           0.87      2442\n",
      "   macro avg       0.79      0.76      0.77      2442\n",
      "weighted avg       0.87      0.87      0.87      2442\n",
      "\n",
      "Matriz de confusión:\n"
     ]
    },
    {
     "data": {
      "image/png": "[encoded data removed]",
      "text/plain": [
       "<Figure size 640x480 with 2 Axes>"
      ]
     },
     "metadata": {},
     "output_type": "display_data"
    }
   ],
   "source": [
    "evaluar_modelo(gb, test_data, test_labels)"
   ]
  },
  {
   "cell_type": "markdown",
   "metadata": {},
   "source": [
    "----\n",
    "\n",
    "### Prueba de despliegue (utilizando datos nuevos)"
   ]
  },
  {
   "cell_type": "code",
   "execution_count": 340,
   "metadata": {},
   "outputs": [
    {
     "data": {
      "text/html": [
       "<div>\n",
       "<style scoped>\n",
       "    .dataframe tbody tr th:only-of-type {\n",
       "        vertical-align: middle;\n",
       "    }\n",
       "\n",
       "    .dataframe tbody tr th {\n",
       "        vertical-align: top;\n",
       "    }\n",
       "\n",
       "    .dataframe thead th {\n",
       "        text-align: right;\n",
       "    }\n",
       "</style>\n",
       "<table border=\"1\" class=\"dataframe\">\n",
       "  <thead>\n",
       "    <tr style=\"text-align: right;\">\n",
       "      <th></th>\n",
       "      <th>id_cliente</th>\n",
       "      <th>edad</th>\n",
       "      <th>importe_solicitado</th>\n",
       "      <th>duracion_credito</th>\n",
       "      <th>antiguedad_empleado</th>\n",
       "      <th>situacion_vivienda</th>\n",
       "      <th>ingresos</th>\n",
       "      <th>objetivo_credito</th>\n",
       "      <th>pct_ingreso</th>\n",
       "      <th>tasa_interes</th>\n",
       "      <th>...</th>\n",
       "      <th>antiguedad_cliente</th>\n",
       "      <th>estado_civil</th>\n",
       "      <th>estado_cliente</th>\n",
       "      <th>gastos_ult_12m</th>\n",
       "      <th>genero</th>\n",
       "      <th>limite_credito_tc</th>\n",
       "      <th>nivel_educativo</th>\n",
       "      <th>nivel_tarjeta</th>\n",
       "      <th>operaciones_ult_12m</th>\n",
       "      <th>personas_a_cargo</th>\n",
       "    </tr>\n",
       "  </thead>\n",
       "  <tbody>\n",
       "    <tr>\n",
       "      <th>0</th>\n",
       "      <td>708510993</td>\n",
       "      <td>22</td>\n",
       "      <td>4000</td>\n",
       "      <td>4</td>\n",
       "      <td>3.0</td>\n",
       "      <td>HIPOTECA</td>\n",
       "      <td>62000</td>\n",
       "      <td>PERSONAL</td>\n",
       "      <td>0.06</td>\n",
       "      <td>6.76</td>\n",
       "      <td>...</td>\n",
       "      <td>47</td>\n",
       "      <td>SOLTERO</td>\n",
       "      <td>ACTIVO</td>\n",
       "      <td>15478.0</td>\n",
       "      <td>F</td>\n",
       "      <td>4905.0</td>\n",
       "      <td>UNIVERSITARIO_INCOMPLETO</td>\n",
       "      <td>Blue</td>\n",
       "      <td>109.0</td>\n",
       "      <td>1.0</td>\n",
       "    </tr>\n",
       "    <tr>\n",
       "      <th>1</th>\n",
       "      <td>708512051</td>\n",
       "      <td>25</td>\n",
       "      <td>10000</td>\n",
       "      <td>2</td>\n",
       "      <td>3.0</td>\n",
       "      <td>ALQUILER</td>\n",
       "      <td>120000</td>\n",
       "      <td>INVERSIONES</td>\n",
       "      <td>0.08</td>\n",
       "      <td>9.32</td>\n",
       "      <td>...</td>\n",
       "      <td>18</td>\n",
       "      <td>CASADO</td>\n",
       "      <td>ACTIVO</td>\n",
       "      <td>3950.0</td>\n",
       "      <td>M</td>\n",
       "      <td>1663.0</td>\n",
       "      <td>UNIVERSITARIO_COMPLETO</td>\n",
       "      <td>Blue</td>\n",
       "      <td>82.0</td>\n",
       "      <td>3.0</td>\n",
       "    </tr>\n",
       "    <tr>\n",
       "      <th>2</th>\n",
       "      <td>708513258</td>\n",
       "      <td>23</td>\n",
       "      <td>1700</td>\n",
       "      <td>2</td>\n",
       "      <td>2.0</td>\n",
       "      <td>HIPOTECA</td>\n",
       "      <td>45000</td>\n",
       "      <td>SALUD</td>\n",
       "      <td>0.04</td>\n",
       "      <td>14.72</td>\n",
       "      <td>...</td>\n",
       "      <td>29</td>\n",
       "      <td>CASADO</td>\n",
       "      <td>ACTIVO</td>\n",
       "      <td>3078.0</td>\n",
       "      <td>M</td>\n",
       "      <td>4323.0</td>\n",
       "      <td>UNIVERSITARIO_INCOMPLETO</td>\n",
       "      <td>Blue</td>\n",
       "      <td>58.0</td>\n",
       "      <td>1.0</td>\n",
       "    </tr>\n",
       "    <tr>\n",
       "      <th>3</th>\n",
       "      <td>708514512</td>\n",
       "      <td>25</td>\n",
       "      <td>7200</td>\n",
       "      <td>4</td>\n",
       "      <td>0.0</td>\n",
       "      <td>ALQUILER</td>\n",
       "      <td>71604</td>\n",
       "      <td>PAGO_DEUDAS</td>\n",
       "      <td>0.10</td>\n",
       "      <td>10.95</td>\n",
       "      <td>...</td>\n",
       "      <td>29</td>\n",
       "      <td>CASADO</td>\n",
       "      <td>ACTIVO</td>\n",
       "      <td>4314.0</td>\n",
       "      <td>F</td>\n",
       "      <td>3809.0</td>\n",
       "      <td>UNIVERSITARIO_INCOMPLETO</td>\n",
       "      <td>Blue</td>\n",
       "      <td>81.0</td>\n",
       "      <td>2.0</td>\n",
       "    </tr>\n",
       "    <tr>\n",
       "      <th>4</th>\n",
       "      <td>708515472</td>\n",
       "      <td>26</td>\n",
       "      <td>5000</td>\n",
       "      <td>3</td>\n",
       "      <td>5.0</td>\n",
       "      <td>HIPOTECA</td>\n",
       "      <td>52000</td>\n",
       "      <td>PAGO_DEUDAS</td>\n",
       "      <td>0.10</td>\n",
       "      <td>10.59</td>\n",
       "      <td>...</td>\n",
       "      <td>36</td>\n",
       "      <td>CASADO</td>\n",
       "      <td>ACTIVO</td>\n",
       "      <td>4216.0</td>\n",
       "      <td>F</td>\n",
       "      <td>4712.0</td>\n",
       "      <td>SECUNDARIO_COMPLETO</td>\n",
       "      <td>Blue</td>\n",
       "      <td>82.0</td>\n",
       "      <td>1.0</td>\n",
       "    </tr>\n",
       "  </tbody>\n",
       "</table>\n",
       "<p>5 rows × 21 columns</p>\n",
       "</div>"
      ],
      "text/plain": [
       "   id_cliente  edad  importe_solicitado  duracion_credito  \\\n",
       "0   708510993    22                4000                 4   \n",
       "1   708512051    25               10000                 2   \n",
       "2   708513258    23                1700                 2   \n",
       "3   708514512    25                7200                 4   \n",
       "4   708515472    26                5000                 3   \n",
       "\n",
       "   antiguedad_empleado situacion_vivienda  ingresos objetivo_credito  \\\n",
       "0                  3.0           HIPOTECA     62000         PERSONAL   \n",
       "1                  3.0           ALQUILER    120000      INVERSIONES   \n",
       "2                  2.0           HIPOTECA     45000            SALUD   \n",
       "3                  0.0           ALQUILER     71604      PAGO_DEUDAS   \n",
       "4                  5.0           HIPOTECA     52000      PAGO_DEUDAS   \n",
       "\n",
       "   pct_ingreso  tasa_interes  ...  antiguedad_cliente  estado_civil  \\\n",
       "0         0.06          6.76  ...                  47       SOLTERO   \n",
       "1         0.08          9.32  ...                  18        CASADO   \n",
       "2         0.04         14.72  ...                  29        CASADO   \n",
       "3         0.10         10.95  ...                  29        CASADO   \n",
       "4         0.10         10.59  ...                  36        CASADO   \n",
       "\n",
       "  estado_cliente gastos_ult_12m  genero limite_credito_tc  \\\n",
       "0         ACTIVO        15478.0       F            4905.0   \n",
       "1         ACTIVO         3950.0       M            1663.0   \n",
       "2         ACTIVO         3078.0       M            4323.0   \n",
       "3         ACTIVO         4314.0       F            3809.0   \n",
       "4         ACTIVO         4216.0       F            4712.0   \n",
       "\n",
       "            nivel_educativo nivel_tarjeta operaciones_ult_12m  \\\n",
       "0  UNIVERSITARIO_INCOMPLETO          Blue               109.0   \n",
       "1    UNIVERSITARIO_COMPLETO          Blue                82.0   \n",
       "2  UNIVERSITARIO_INCOMPLETO          Blue                58.0   \n",
       "3  UNIVERSITARIO_INCOMPLETO          Blue                81.0   \n",
       "4       SECUNDARIO_COMPLETO          Blue                82.0   \n",
       "\n",
       "   personas_a_cargo  \n",
       "0               1.0  \n",
       "1               3.0  \n",
       "2               1.0  \n",
       "3               2.0  \n",
       "4               1.0  \n",
       "\n",
       "[5 rows x 21 columns]"
      ]
     },
     "execution_count": 340,
     "metadata": {},
     "output_type": "execute_result"
    }
   ],
   "source": [
    "datos_nuevos = pd.read_csv('../../data/final/datos_nuevos.csv', sep=';')\n",
    "datos_nuevos.head(5)"
   ]
  },
  {
   "cell_type": "markdown",
   "metadata": {},
   "source": [
    "Se aplican las mismas transformaciones realizadas sobre los datos de entrenamiento, para que ambos datasets sean compatibles"
   ]
  },
  {
   "cell_type": "code",
   "execution_count": 341,
   "metadata": {},
   "outputs": [
    {
     "data": {
      "text/html": [
       "<div>\n",
       "<style scoped>\n",
       "    .dataframe tbody tr th:only-of-type {\n",
       "        vertical-align: middle;\n",
       "    }\n",
       "\n",
       "    .dataframe tbody tr th {\n",
       "        vertical-align: top;\n",
       "    }\n",
       "\n",
       "    .dataframe thead th {\n",
       "        text-align: right;\n",
       "    }\n",
       "</style>\n",
       "<table border=\"1\" class=\"dataframe\">\n",
       "  <thead>\n",
       "    <tr style=\"text-align: right;\">\n",
       "      <th></th>\n",
       "      <th>estado_civil</th>\n",
       "      <th>estado_credito</th>\n",
       "      <th>antiguedad_empleado</th>\n",
       "      <th>edad</th>\n",
       "      <th>pct_ingreso</th>\n",
       "      <th>ingresos</th>\n",
       "      <th>antiguedad_cliente</th>\n",
       "      <th>limite_credito_tc</th>\n",
       "      <th>gastos_ult_12m</th>\n",
       "      <th>operaciones_ult_12m</th>\n",
       "      <th>importe_solicitado</th>\n",
       "      <th>duracion_credito</th>\n",
       "      <th>situacion_vivienda</th>\n",
       "      <th>objetivo_credito</th>\n",
       "      <th>estado_cliente</th>\n",
       "      <th>genero</th>\n",
       "      <th>nivel_educativo</th>\n",
       "      <th>personas_a_cargo</th>\n",
       "    </tr>\n",
       "  </thead>\n",
       "  <tbody>\n",
       "    <tr>\n",
       "      <th>0</th>\n",
       "      <td>S</td>\n",
       "      <td>C</td>\n",
       "      <td>menor_10</td>\n",
       "      <td>menor_25</td>\n",
       "      <td>hasta_20</td>\n",
       "      <td>50k_a_100k</td>\n",
       "      <td>2y_a_4y</td>\n",
       "      <td>3k_a_5k</td>\n",
       "      <td>mayor_10k</td>\n",
       "      <td>mayor_100</td>\n",
       "      <td>4000</td>\n",
       "      <td>4</td>\n",
       "      <td>HIPOTECA</td>\n",
       "      <td>PERSONAL</td>\n",
       "      <td>ACTIVO</td>\n",
       "      <td>F</td>\n",
       "      <td>UNIVERSITARIO_INCOMPLETO</td>\n",
       "      <td>1.0</td>\n",
       "    </tr>\n",
       "    <tr>\n",
       "      <th>1</th>\n",
       "      <td>C</td>\n",
       "      <td>C</td>\n",
       "      <td>menor_10</td>\n",
       "      <td>25_a_30</td>\n",
       "      <td>hasta_20</td>\n",
       "      <td>mayor_100k</td>\n",
       "      <td>menor_2y</td>\n",
       "      <td>menor_3k</td>\n",
       "      <td>1k_a_4k</td>\n",
       "      <td>75_a_100</td>\n",
       "      <td>10000</td>\n",
       "      <td>2</td>\n",
       "      <td>ALQUILER</td>\n",
       "      <td>INVERSIONES</td>\n",
       "      <td>ACTIVO</td>\n",
       "      <td>M</td>\n",
       "      <td>UNIVERSITARIO_COMPLETO</td>\n",
       "      <td>3.0</td>\n",
       "    </tr>\n",
       "    <tr>\n",
       "      <th>2</th>\n",
       "      <td>C</td>\n",
       "      <td>C</td>\n",
       "      <td>menor_10</td>\n",
       "      <td>menor_25</td>\n",
       "      <td>hasta_20</td>\n",
       "      <td>20k_a_50k</td>\n",
       "      <td>2y_a_4y</td>\n",
       "      <td>3k_a_5k</td>\n",
       "      <td>1k_a_4k</td>\n",
       "      <td>50_a_75</td>\n",
       "      <td>1700</td>\n",
       "      <td>2</td>\n",
       "      <td>HIPOTECA</td>\n",
       "      <td>SALUD</td>\n",
       "      <td>ACTIVO</td>\n",
       "      <td>M</td>\n",
       "      <td>UNIVERSITARIO_INCOMPLETO</td>\n",
       "      <td>1.0</td>\n",
       "    </tr>\n",
       "    <tr>\n",
       "      <th>3</th>\n",
       "      <td>C</td>\n",
       "      <td>C</td>\n",
       "      <td>menor_10</td>\n",
       "      <td>25_a_30</td>\n",
       "      <td>hasta_20</td>\n",
       "      <td>50k_a_100k</td>\n",
       "      <td>2y_a_4y</td>\n",
       "      <td>3k_a_5k</td>\n",
       "      <td>4k_a_6k</td>\n",
       "      <td>75_a_100</td>\n",
       "      <td>7200</td>\n",
       "      <td>4</td>\n",
       "      <td>ALQUILER</td>\n",
       "      <td>PAGO_DEUDAS</td>\n",
       "      <td>ACTIVO</td>\n",
       "      <td>F</td>\n",
       "      <td>UNIVERSITARIO_INCOMPLETO</td>\n",
       "      <td>2.0</td>\n",
       "    </tr>\n",
       "    <tr>\n",
       "      <th>4</th>\n",
       "      <td>C</td>\n",
       "      <td>C</td>\n",
       "      <td>5_a_10</td>\n",
       "      <td>25_a_30</td>\n",
       "      <td>hasta_20</td>\n",
       "      <td>50k_a_100k</td>\n",
       "      <td>2y_a_4y</td>\n",
       "      <td>3k_a_5k</td>\n",
       "      <td>4k_a_6k</td>\n",
       "      <td>75_a_100</td>\n",
       "      <td>5000</td>\n",
       "      <td>3</td>\n",
       "      <td>HIPOTECA</td>\n",
       "      <td>PAGO_DEUDAS</td>\n",
       "      <td>ACTIVO</td>\n",
       "      <td>F</td>\n",
       "      <td>SECUNDARIO_COMPLETO</td>\n",
       "      <td>1.0</td>\n",
       "    </tr>\n",
       "  </tbody>\n",
       "</table>\n",
       "</div>"
      ],
      "text/plain": [
       "  estado_civil estado_credito antiguedad_empleado      edad pct_ingreso  \\\n",
       "0            S              C            menor_10  menor_25    hasta_20   \n",
       "1            C              C            menor_10   25_a_30    hasta_20   \n",
       "2            C              C            menor_10  menor_25    hasta_20   \n",
       "3            C              C            menor_10   25_a_30    hasta_20   \n",
       "4            C              C              5_a_10   25_a_30    hasta_20   \n",
       "\n",
       "     ingresos antiguedad_cliente limite_credito_tc gastos_ult_12m  \\\n",
       "0  50k_a_100k            2y_a_4y           3k_a_5k      mayor_10k   \n",
       "1  mayor_100k           menor_2y          menor_3k        1k_a_4k   \n",
       "2   20k_a_50k            2y_a_4y           3k_a_5k        1k_a_4k   \n",
       "3  50k_a_100k            2y_a_4y           3k_a_5k        4k_a_6k   \n",
       "4  50k_a_100k            2y_a_4y           3k_a_5k        4k_a_6k   \n",
       "\n",
       "  operaciones_ult_12m  importe_solicitado  duracion_credito  \\\n",
       "0           mayor_100                4000                 4   \n",
       "1            75_a_100               10000                 2   \n",
       "2             50_a_75                1700                 2   \n",
       "3            75_a_100                7200                 4   \n",
       "4            75_a_100                5000                 3   \n",
       "\n",
       "  situacion_vivienda objetivo_credito estado_cliente genero  \\\n",
       "0           HIPOTECA         PERSONAL         ACTIVO      F   \n",
       "1           ALQUILER      INVERSIONES         ACTIVO      M   \n",
       "2           HIPOTECA            SALUD         ACTIVO      M   \n",
       "3           ALQUILER      PAGO_DEUDAS         ACTIVO      F   \n",
       "4           HIPOTECA      PAGO_DEUDAS         ACTIVO      F   \n",
       "\n",
       "            nivel_educativo  personas_a_cargo  \n",
       "0  UNIVERSITARIO_INCOMPLETO               1.0  \n",
       "1    UNIVERSITARIO_COMPLETO               3.0  \n",
       "2  UNIVERSITARIO_INCOMPLETO               1.0  \n",
       "3  UNIVERSITARIO_INCOMPLETO               2.0  \n",
       "4       SECUNDARIO_COMPLETO               1.0  "
      ]
     },
     "execution_count": 341,
     "metadata": {},
     "output_type": "execute_result"
    }
   ],
   "source": [
    "# Columna: estado_civil\n",
    "cambios_estado_civil = {\n",
    "    'CASADO' : 'C',\n",
    "    'SOLTERO' : 'S',\n",
    "    'DESCONOCIDO' : 'N',\n",
    "    'DIVORCIADO' : 'D',\n",
    "}\n",
    "estado_civil_N = datos_nuevos.loc[:, ('estado_civil')].map(cambios_estado_civil).rename('estado_civil')\n",
    "\n",
    "# Columna: estado_credito\n",
    "cambios_estado_credito = {\n",
    "    0 : 'C', # Cancelado\n",
    "    1 : 'P'  # Pendiente cancelación\n",
    "}\n",
    "estado_credito_N = datos_nuevos.loc[:, ('estado_credito')].map(cambios_estado_credito).rename('estado_credito')\n",
    "\n",
    "# antigüedad del empleado\n",
    "etiquetas_a_e = ['menor_10', '5_a_10', 'mayor_10']\n",
    "rangos_a_e = [0, 4, 10, 50]\n",
    "valor_para_nan = 'NA'\n",
    "antiguedad_empleado_N = pd.cut(datos_nuevos['antiguedad_empleado'], \n",
    "                                bins=rangos_a_e, \n",
    "                                labels=etiquetas_a_e,\n",
    "                                right=False).cat.add_categories(valor_para_nan).fillna(valor_para_nan)\n",
    "\n",
    "# edad\n",
    "etiquetas_e = ['menor_25', '25_a_30']\n",
    "rangos_e = [0, 24, 50]\n",
    "edad_N = pd.cut(datos_nuevos['edad'], \n",
    "                                bins=rangos_e, \n",
    "                                labels=etiquetas_e)\n",
    "\n",
    "# pct ingreso\n",
    "etiquetas_p_i = ['hasta_20', '20_a_40', '40_a_60', 'mayor_60']\n",
    "rangos_p_i = [0, 0.19, 0.39, 0.60, 0.99]\n",
    "pct_ingreso_N = pd.cut(datos_nuevos['pct_ingreso'], \n",
    "                                bins=rangos_p_i, \n",
    "                                labels=etiquetas_p_i)\n",
    "\n",
    "# ingresos\n",
    "etiquetas_i = ['hasta_20k', '20k_a_50k', '50k_a_100k', 'mayor_100k']\n",
    "rangos_i = [0, 19999, 49999, 99999, 999999]\n",
    "ingresos_N = pd.cut(datos_nuevos['ingresos'], \n",
    "                                bins=rangos_i, \n",
    "                                labels=etiquetas_i)\n",
    "\n",
    "# antigüedad del cliente\n",
    "etiquetas_a_c = ['menor_2y', '2y_a_4y', 'mayor_4y']\n",
    "rangos_a_c = [0, 24, 48, 100]\n",
    "antiguedad_cliente_N = pd.cut(datos_nuevos['antiguedad_cliente'], \n",
    "                                bins=rangos_a_c, \n",
    "                                labels=etiquetas_a_c)\n",
    "\n",
    "# límite crédito tc\n",
    "etiquetas_l_tc = ['menor_3k', '3k_a_5k', '5k_a_10k', 'mayor_10k']\n",
    "rangos_l_tc = [0, 2999, 4999, 9999, 100000]\n",
    "limite_credito_tc_N = pd.cut(datos_nuevos['limite_credito_tc'], \n",
    "                                bins=rangos_l_tc, \n",
    "                                labels=etiquetas_l_tc)\n",
    "\n",
    "# gastos últimos 12 meses\n",
    "etiquetas_g_u12 = ['menor_1k', '1k_a_4k', '4k_a_6k', '6k_a_8k', '8k_a_10k', 'mayor_10k']\n",
    "rangos_g_u12 = [0, 999, 3999, 5999, 7999, 9999, 100000]\n",
    "gastos_ult_12m_N = pd.cut(datos_nuevos['gastos_ult_12m'], \n",
    "                                bins=rangos_g_u12, \n",
    "                                labels=etiquetas_g_u12)\n",
    "\n",
    "# operaciones últimos 12 meses\n",
    "etiquetas_o_u12 = ['menor_15', '15_a_30', '30_a_50', '50_a_75', '75_a_100', 'mayor_100']\n",
    "rangos_o_u12 = [0, 14, 29, 49, 74, 99, 1000]\n",
    "operaciones_ult_12m_N = pd.cut(datos_nuevos['operaciones_ult_12m'], \n",
    "                                bins=rangos_o_u12, \n",
    "                                labels=etiquetas_o_u12)\n",
    "\n",
    "\n",
    "col_eliminar_final = [\n",
    "              'estado_civil',\n",
    "              'estado_credito',\n",
    "              'antiguedad_empleado',\n",
    "              'edad',\n",
    "              'pct_ingreso', \n",
    "              'ingresos',\n",
    "              'antiguedad_cliente', \n",
    "              'limite_credito_tc', \n",
    "              'gastos_ult_12m', \n",
    "              'operaciones_ult_12m',\n",
    "#              'regla_pct_ingresos',\n",
    "#              'regla_duracion_credito',\n",
    "              'id_cliente']\n",
    "\n",
    "datos_nuevos.drop(col_eliminar_final, inplace=True, axis=1)\n",
    "\n",
    "df_nuevo = pd.concat([estado_civil_N, estado_credito_N, antiguedad_empleado_N, edad_N, pct_ingreso_N, ingresos_N, antiguedad_cliente_N, limite_credito_tc_N, gastos_ult_12m_N, operaciones_ult_12m_N, datos_nuevos], axis=1)\n",
    "\n",
    "# Se eliminan las mismas columnas que en los datos de entrenamiento\n",
    "df_nuevo.drop([\"tasa_interes\", \"nivel_tarjeta\"], inplace=True, axis=1)\n",
    "\n",
    "df_nuevo.head(5)"
   ]
  },
  {
   "cell_type": "code",
   "execution_count": 342,
   "metadata": {},
   "outputs": [
    {
     "name": "stdout",
     "output_type": "stream",
     "text": [
      "<class 'pandas.core.frame.DataFrame'>\n",
      "RangeIndex: 112 entries, 0 to 111\n",
      "Data columns (total 61 columns):\n",
      " #   Column                                    Non-Null Count  Dtype  \n",
      "---  ------                                    --------------  -----  \n",
      " 0   importe_solicitado                        112 non-null    int64  \n",
      " 1   duracion_credito                          112 non-null    int64  \n",
      " 2   personas_a_cargo                          112 non-null    float64\n",
      " 3   estado_civil_C                            112 non-null    bool   \n",
      " 4   estado_civil_D                            112 non-null    bool   \n",
      " 5   estado_civil_N                            112 non-null    bool   \n",
      " 6   estado_civil_S                            112 non-null    bool   \n",
      " 7   estado_credito_C                          112 non-null    bool   \n",
      " 8   estado_credito_P                          112 non-null    bool   \n",
      " 9   antiguedad_empleado_menor_10              112 non-null    bool   \n",
      " 10  antiguedad_empleado_5_a_10                112 non-null    bool   \n",
      " 11  antiguedad_empleado_mayor_10              112 non-null    bool   \n",
      " 12  antiguedad_empleado_NA                    112 non-null    bool   \n",
      " 13  edad_menor_25                             112 non-null    bool   \n",
      " 14  edad_25_a_30                              112 non-null    bool   \n",
      " 15  pct_ingreso_hasta_20                      112 non-null    bool   \n",
      " 16  pct_ingreso_20_a_40                       112 non-null    bool   \n",
      " 17  pct_ingreso_40_a_60                       112 non-null    bool   \n",
      " 18  pct_ingreso_mayor_60                      112 non-null    bool   \n",
      " 19  ingresos_hasta_20k                        112 non-null    bool   \n",
      " 20  ingresos_20k_a_50k                        112 non-null    bool   \n",
      " 21  ingresos_50k_a_100k                       112 non-null    bool   \n",
      " 22  ingresos_mayor_100k                       112 non-null    bool   \n",
      " 23  antiguedad_cliente_menor_2y               112 non-null    bool   \n",
      " 24  antiguedad_cliente_2y_a_4y                112 non-null    bool   \n",
      " 25  antiguedad_cliente_mayor_4y               112 non-null    bool   \n",
      " 26  limite_credito_tc_menor_3k                112 non-null    bool   \n",
      " 27  limite_credito_tc_3k_a_5k                 112 non-null    bool   \n",
      " 28  limite_credito_tc_5k_a_10k                112 non-null    bool   \n",
      " 29  limite_credito_tc_mayor_10k               112 non-null    bool   \n",
      " 30  gastos_ult_12m_menor_1k                   112 non-null    bool   \n",
      " 31  gastos_ult_12m_1k_a_4k                    112 non-null    bool   \n",
      " 32  gastos_ult_12m_4k_a_6k                    112 non-null    bool   \n",
      " 33  gastos_ult_12m_6k_a_8k                    112 non-null    bool   \n",
      " 34  gastos_ult_12m_8k_a_10k                   112 non-null    bool   \n",
      " 35  gastos_ult_12m_mayor_10k                  112 non-null    bool   \n",
      " 36  operaciones_ult_12m_menor_15              112 non-null    bool   \n",
      " 37  operaciones_ult_12m_15_a_30               112 non-null    bool   \n",
      " 38  operaciones_ult_12m_30_a_50               112 non-null    bool   \n",
      " 39  operaciones_ult_12m_50_a_75               112 non-null    bool   \n",
      " 40  operaciones_ult_12m_75_a_100              112 non-null    bool   \n",
      " 41  operaciones_ult_12m_mayor_100             112 non-null    bool   \n",
      " 42  situacion_vivienda_ALQUILER               112 non-null    bool   \n",
      " 43  situacion_vivienda_HIPOTECA               112 non-null    bool   \n",
      " 44  situacion_vivienda_PROPIA                 112 non-null    bool   \n",
      " 45  objetivo_credito_EDUCACIÓN                112 non-null    bool   \n",
      " 46  objetivo_credito_INVERSIONES              112 non-null    bool   \n",
      " 47  objetivo_credito_MEJORAS_HOGAR            112 non-null    bool   \n",
      " 48  objetivo_credito_PAGO_DEUDAS              112 non-null    bool   \n",
      " 49  objetivo_credito_PERSONAL                 112 non-null    bool   \n",
      " 50  objetivo_credito_SALUD                    112 non-null    bool   \n",
      " 51  estado_cliente_ACTIVO                     112 non-null    bool   \n",
      " 52  estado_cliente_PASIVO                     112 non-null    bool   \n",
      " 53  genero_F                                  112 non-null    bool   \n",
      " 54  genero_M                                  112 non-null    bool   \n",
      " 55  nivel_educativo_DESCONOCIDO               112 non-null    bool   \n",
      " 56  nivel_educativo_POSGRADO_COMPLETO         112 non-null    bool   \n",
      " 57  nivel_educativo_POSGRADO_INCOMPLETO       112 non-null    bool   \n",
      " 58  nivel_educativo_SECUNDARIO_COMPLETO       112 non-null    bool   \n",
      " 59  nivel_educativo_UNIVERSITARIO_COMPLETO    112 non-null    bool   \n",
      " 60  nivel_educativo_UNIVERSITARIO_INCOMPLETO  112 non-null    bool   \n",
      "dtypes: bool(58), float64(1), int64(2)\n",
      "memory usage: 9.1 KB\n"
     ]
    }
   ],
   "source": [
    "nuevos_codif = pd.get_dummies(df_nuevo)\n",
    "nuevos_codif.info()"
   ]
  },
  {
   "cell_type": "code",
   "execution_count": 343,
   "metadata": {},
   "outputs": [
    {
     "name": "stdout",
     "output_type": "stream",
     "text": [
      "Columnas faltantes:  {'situacion_vivienda_OTROS'} \n",
      "\n",
      "Datos nuevos: 62\n",
      "Datos entrenamiento: 61\n",
      "set()\n"
     ]
    }
   ],
   "source": [
    "# Dado que puede haber diferencias con el set de entrenamiento se emparejan\n",
    "\n",
    "columnas_faltantes = set(data.columns) - set(nuevos_codif.columns)\n",
    "print('Columnas faltantes: ', columnas_faltantes, '\\n')\n",
    "for columna in columnas_faltantes:\n",
    "    nuevos_codif[columna] = 0  # Se agregan las columnas faltantes con valor 0\n",
    "\n",
    "print('Datos nuevos: ' + str(len(nuevos_codif.columns)))\n",
    "print('Datos entrenamiento: ' + str(len(data.columns)))\n",
    "print(set(data.columns) - set(nuevos_codif.columns))"
   ]
  },
  {
   "cell_type": "code",
   "execution_count": 344,
   "metadata": {},
   "outputs": [
    {
     "data": {
      "text/plain": [
       "Index(['importe_solicitado', 'duracion_credito', 'personas_a_cargo',\n",
       "       'operaciones_ult_12m_15_a_30', 'operaciones_ult_12m_30_a_50',\n",
       "       'operaciones_ult_12m_50_a_75', 'operaciones_ult_12m_75_a_100',\n",
       "       'operaciones_ult_12m_mayor_100', 'operaciones_ult_12m_menor_15',\n",
       "       'gastos_ult_12m_1k_a_4k', 'gastos_ult_12m_4k_a_6k',\n",
       "       'gastos_ult_12m_6k_a_8k', 'gastos_ult_12m_8k_a_10k',\n",
       "       'gastos_ult_12m_mayor_10k', 'gastos_ult_12m_menor_1k',\n",
       "       'limite_credito_tc_3k_a_5k', 'limite_credito_tc_5k_a_10k',\n",
       "       'limite_credito_tc_mayor_10k', 'limite_credito_tc_menor_3k',\n",
       "       'antiguedad_cliente_2y_a_4y', 'antiguedad_cliente_mayor_4y',\n",
       "       'antiguedad_cliente_menor_2y', 'ingresos_20k_a_50k',\n",
       "       'ingresos_50k_a_100k', 'ingresos_hasta_20k', 'ingresos_mayor_100k',\n",
       "       'pct_ingreso_20_a_40', 'pct_ingreso_40_a_60', 'pct_ingreso_hasta_20',\n",
       "       'pct_ingreso_mayor_60', 'antiguedad_empleado_5_a_10',\n",
       "       'antiguedad_empleado_mayor_10', 'antiguedad_empleado_menor_10',\n",
       "       'edad_25_a_30', 'edad_menor_25', 'situacion_vivienda_ALQUILER',\n",
       "       'situacion_vivienda_HIPOTECA', 'situacion_vivienda_OTROS',\n",
       "       'situacion_vivienda_PROPIA', 'objetivo_credito_EDUCACIÓN',\n",
       "       'objetivo_credito_INVERSIONES', 'objetivo_credito_MEJORAS_HOGAR',\n",
       "       'objetivo_credito_PAGO_DEUDAS', 'objetivo_credito_PERSONAL',\n",
       "       'objetivo_credito_SALUD', 'estado_credito_C', 'estado_credito_P',\n",
       "       'estado_civil_C', 'estado_civil_D', 'estado_civil_N', 'estado_civil_S',\n",
       "       'estado_cliente_ACTIVO', 'estado_cliente_PASIVO', 'genero_F',\n",
       "       'genero_M', 'nivel_educativo_DESCONOCIDO',\n",
       "       'nivel_educativo_POSGRADO_COMPLETO',\n",
       "       'nivel_educativo_POSGRADO_INCOMPLETO',\n",
       "       'nivel_educativo_SECUNDARIO_COMPLETO',\n",
       "       'nivel_educativo_UNIVERSITARIO_COMPLETO',\n",
       "       'nivel_educativo_UNIVERSITARIO_INCOMPLETO'],\n",
       "      dtype='object')"
      ]
     },
     "execution_count": 344,
     "metadata": {},
     "output_type": "execute_result"
    }
   ],
   "source": [
    "nuevos_codif = nuevos_codif[data.columns]\n",
    "nuevos_codif.columns"
   ]
  },
  {
   "cell_type": "code",
   "execution_count": 345,
   "metadata": {},
   "outputs": [
    {
     "name": "stderr",
     "output_type": "stream",
     "text": [
      "2023/12/06 20:41:37 WARNING mlflow.utils.autologging_utils: MLflow autologging encountered a warning: \"c:\\Users\\Antonio\\miniconda3\\envs\\MBID13\\Lib\\site-packages\\mlflow\\data\\pandas_dataset.py:116: UserWarning: Hint: Inferred schema contains integer column(s). Integer columns in Python cannot represent missing values. If your input data contains missing values at inference time, it will be encoded as floats and will cause a schema enforcement error. The best way to avoid this problem is to infer the model schema based on a realistic data sample (training dataset) that includes missing values. Alternatively, you can declare integer columns as doubles (float64) whenever these columns may have missing values. See `Handling Integers With Missing Values <https://www.mlflow.org/docs/latest/models.html#handling-integers-with-missing-values>`_ for more details.\"\n"
     ]
    }
   ],
   "source": [
    "# Se hace la predicción con los nuevos datos, con el modelo Gradient Boosting (#3)\n",
    "\n",
    "prediccion_nuevos = gb.predict(nuevos_codif)\n",
    "\n",
    "prediccionDF = pd.DataFrame(prediccion_nuevos)"
   ]
  },
  {
   "cell_type": "code",
   "execution_count": 346,
   "metadata": {},
   "outputs": [
    {
     "data": {
      "text/plain": [
       "prediccion_mora\n",
       "N    83\n",
       "Y    29\n",
       "Name: count, dtype: int64"
      ]
     },
     "execution_count": 346,
     "metadata": {},
     "output_type": "execute_result"
    }
   ],
   "source": [
    "# Se agrega la nueva columna\n",
    "datos_nuevos['prediccion_mora'] = prediccionDF\n",
    "datos_nuevos['prediccion_mora'].value_counts()"
   ]
  }
 ],
 "metadata": {
  "kernelspec": {
   "display_name": "Python 3 (ipykernel)",
   "language": "python",
   "name": "python3"
  },
  "language_info": {
   "codemirror_mode": {
    "name": "ipython",
    "version": 3
   },
   "file_extension": ".py",
   "mimetype": "text/x-python",
   "name": "python",
   "nbconvert_exporter": "python",
   "pygments_lexer": "ipython3",
   "version": "3.11.5"
  }
 },
 "nbformat": 4,
 "nbformat_minor": 2
}
